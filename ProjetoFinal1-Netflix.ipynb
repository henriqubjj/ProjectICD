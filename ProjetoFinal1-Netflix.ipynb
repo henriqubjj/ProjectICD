{
 "cells": [
  {
   "cell_type": "markdown",
   "metadata": {},
   "source": [
    "# Titulo: A Netflix\n",
    "\n",
    "## Integrantes:\n",
    "### Paulo Marcelo Ribeiro Soeiro Da Silva\n",
    "### José Jonas Alves Assis \n",
    "### Eduardo Henrique Pessoa Alves\n"
   ]
  },
  {
   "cell_type": "markdown",
   "metadata": {},
   "source": [
    "# Motivação e Objetivos.\n",
    "### Para auxiliar os assinantes a encontrar um filme/serie do catalogo da netflix,com mais especificidade e mostrar mais detalhes sobre os dados da netflix."
   ]
  },
  {
   "cell_type": "code",
   "execution_count": 8,
   "metadata": {},
   "outputs": [],
   "source": [
    "import pandas as pd\n",
    "import numpy as np\n",
    "import math as mt\n",
    "import scipy as sp\n",
    "import matplotlib.pyplot as plt\n",
    "import seaborn as sns\n",
    "from sklearn.cluster import KMeans\n",
    "from scipy.stats import linregress\n",
    "netflix = pd.read_csv(\"netflix_titles.csv\")"
   ]
  },
  {
   "cell_type": "markdown",
   "metadata": {},
   "source": [
    "#### Dataset com o catalogo da netflix,atulizado em fevereiro de 2021."
   ]
  },
  {
   "cell_type": "code",
   "execution_count": 9,
   "metadata": {
    "scrolled": true
   },
   "outputs": [
    {
     "data": {
      "text/html": [
       "<div>\n",
       "<style scoped>\n",
       "    .dataframe tbody tr th:only-of-type {\n",
       "        vertical-align: middle;\n",
       "    }\n",
       "\n",
       "    .dataframe tbody tr th {\n",
       "        vertical-align: top;\n",
       "    }\n",
       "\n",
       "    .dataframe thead th {\n",
       "        text-align: right;\n",
       "    }\n",
       "</style>\n",
       "<table border=\"1\" class=\"dataframe\">\n",
       "  <thead>\n",
       "    <tr style=\"text-align: right;\">\n",
       "      <th></th>\n",
       "      <th>show_id</th>\n",
       "      <th>type</th>\n",
       "      <th>title</th>\n",
       "      <th>director</th>\n",
       "      <th>cast</th>\n",
       "      <th>country</th>\n",
       "      <th>date_added</th>\n",
       "      <th>release_year</th>\n",
       "      <th>rating</th>\n",
       "      <th>duration</th>\n",
       "      <th>listed_in</th>\n",
       "      <th>description</th>\n",
       "    </tr>\n",
       "  </thead>\n",
       "  <tbody>\n",
       "    <tr>\n",
       "      <th>0</th>\n",
       "      <td>s1</td>\n",
       "      <td>TV Show</td>\n",
       "      <td>3%</td>\n",
       "      <td>NaN</td>\n",
       "      <td>João Miguel, Bianca Comparato, Michel Gomes, R...</td>\n",
       "      <td>Brazil</td>\n",
       "      <td>August 14, 2020</td>\n",
       "      <td>2020</td>\n",
       "      <td>TV-MA</td>\n",
       "      <td>4 Seasons</td>\n",
       "      <td>International TV Shows, TV Dramas, TV Sci-Fi &amp;...</td>\n",
       "      <td>In a future where the elite inhabit an island ...</td>\n",
       "    </tr>\n",
       "    <tr>\n",
       "      <th>1</th>\n",
       "      <td>s2</td>\n",
       "      <td>Movie</td>\n",
       "      <td>7:19</td>\n",
       "      <td>Jorge Michel Grau</td>\n",
       "      <td>Demián Bichir, Héctor Bonilla, Oscar Serrano, ...</td>\n",
       "      <td>Mexico</td>\n",
       "      <td>December 23, 2016</td>\n",
       "      <td>2016</td>\n",
       "      <td>TV-MA</td>\n",
       "      <td>93 min</td>\n",
       "      <td>Dramas, International Movies</td>\n",
       "      <td>After a devastating earthquake hits Mexico Cit...</td>\n",
       "    </tr>\n",
       "    <tr>\n",
       "      <th>2</th>\n",
       "      <td>s3</td>\n",
       "      <td>Movie</td>\n",
       "      <td>23:59</td>\n",
       "      <td>Gilbert Chan</td>\n",
       "      <td>Tedd Chan, Stella Chung, Henley Hii, Lawrence ...</td>\n",
       "      <td>Singapore</td>\n",
       "      <td>December 20, 2018</td>\n",
       "      <td>2011</td>\n",
       "      <td>R</td>\n",
       "      <td>78 min</td>\n",
       "      <td>Horror Movies, International Movies</td>\n",
       "      <td>When an army recruit is found dead, his fellow...</td>\n",
       "    </tr>\n",
       "    <tr>\n",
       "      <th>3</th>\n",
       "      <td>s4</td>\n",
       "      <td>Movie</td>\n",
       "      <td>9</td>\n",
       "      <td>Shane Acker</td>\n",
       "      <td>Elijah Wood, John C. Reilly, Jennifer Connelly...</td>\n",
       "      <td>United States</td>\n",
       "      <td>November 16, 2017</td>\n",
       "      <td>2009</td>\n",
       "      <td>PG-13</td>\n",
       "      <td>80 min</td>\n",
       "      <td>Action &amp; Adventure, Independent Movies, Sci-Fi...</td>\n",
       "      <td>In a postapocalyptic world, rag-doll robots hi...</td>\n",
       "    </tr>\n",
       "    <tr>\n",
       "      <th>4</th>\n",
       "      <td>s5</td>\n",
       "      <td>Movie</td>\n",
       "      <td>21</td>\n",
       "      <td>Robert Luketic</td>\n",
       "      <td>Jim Sturgess, Kevin Spacey, Kate Bosworth, Aar...</td>\n",
       "      <td>United States</td>\n",
       "      <td>January 1, 2020</td>\n",
       "      <td>2008</td>\n",
       "      <td>PG-13</td>\n",
       "      <td>123 min</td>\n",
       "      <td>Dramas</td>\n",
       "      <td>A brilliant group of students become card-coun...</td>\n",
       "    </tr>\n",
       "    <tr>\n",
       "      <th>...</th>\n",
       "      <td>...</td>\n",
       "      <td>...</td>\n",
       "      <td>...</td>\n",
       "      <td>...</td>\n",
       "      <td>...</td>\n",
       "      <td>...</td>\n",
       "      <td>...</td>\n",
       "      <td>...</td>\n",
       "      <td>...</td>\n",
       "      <td>...</td>\n",
       "      <td>...</td>\n",
       "      <td>...</td>\n",
       "    </tr>\n",
       "    <tr>\n",
       "      <th>7782</th>\n",
       "      <td>s7783</td>\n",
       "      <td>Movie</td>\n",
       "      <td>Zozo</td>\n",
       "      <td>Josef Fares</td>\n",
       "      <td>Imad Creidi, Antoinette Turk, Elias Gergi, Car...</td>\n",
       "      <td>Sweden, Czech Republic, United Kingdom, Denmar...</td>\n",
       "      <td>October 19, 2020</td>\n",
       "      <td>2005</td>\n",
       "      <td>TV-MA</td>\n",
       "      <td>99 min</td>\n",
       "      <td>Dramas, International Movies</td>\n",
       "      <td>When Lebanon's Civil War deprives Zozo of his ...</td>\n",
       "    </tr>\n",
       "    <tr>\n",
       "      <th>7783</th>\n",
       "      <td>s7784</td>\n",
       "      <td>Movie</td>\n",
       "      <td>Zubaan</td>\n",
       "      <td>Mozez Singh</td>\n",
       "      <td>Vicky Kaushal, Sarah-Jane Dias, Raaghav Chanan...</td>\n",
       "      <td>India</td>\n",
       "      <td>March 2, 2019</td>\n",
       "      <td>2015</td>\n",
       "      <td>TV-14</td>\n",
       "      <td>111 min</td>\n",
       "      <td>Dramas, International Movies, Music &amp; Musicals</td>\n",
       "      <td>A scrappy but poor boy worms his way into a ty...</td>\n",
       "    </tr>\n",
       "    <tr>\n",
       "      <th>7784</th>\n",
       "      <td>s7785</td>\n",
       "      <td>Movie</td>\n",
       "      <td>Zulu Man in Japan</td>\n",
       "      <td>NaN</td>\n",
       "      <td>Nasty C</td>\n",
       "      <td>NaN</td>\n",
       "      <td>September 25, 2020</td>\n",
       "      <td>2019</td>\n",
       "      <td>TV-MA</td>\n",
       "      <td>44 min</td>\n",
       "      <td>Documentaries, International Movies, Music &amp; M...</td>\n",
       "      <td>In this documentary, South African rapper Nast...</td>\n",
       "    </tr>\n",
       "    <tr>\n",
       "      <th>7785</th>\n",
       "      <td>s7786</td>\n",
       "      <td>TV Show</td>\n",
       "      <td>Zumbo's Just Desserts</td>\n",
       "      <td>NaN</td>\n",
       "      <td>Adriano Zumbo, Rachel Khoo</td>\n",
       "      <td>Australia</td>\n",
       "      <td>October 31, 2020</td>\n",
       "      <td>2019</td>\n",
       "      <td>TV-PG</td>\n",
       "      <td>1 Season</td>\n",
       "      <td>International TV Shows, Reality TV</td>\n",
       "      <td>Dessert wizard Adriano Zumbo looks for the nex...</td>\n",
       "    </tr>\n",
       "    <tr>\n",
       "      <th>7786</th>\n",
       "      <td>s7787</td>\n",
       "      <td>Movie</td>\n",
       "      <td>ZZ TOP: THAT LITTLE OL' BAND FROM TEXAS</td>\n",
       "      <td>Sam Dunn</td>\n",
       "      <td>NaN</td>\n",
       "      <td>United Kingdom, Canada, United States</td>\n",
       "      <td>March 1, 2020</td>\n",
       "      <td>2019</td>\n",
       "      <td>TV-MA</td>\n",
       "      <td>90 min</td>\n",
       "      <td>Documentaries, Music &amp; Musicals</td>\n",
       "      <td>This documentary delves into the mystique behi...</td>\n",
       "    </tr>\n",
       "  </tbody>\n",
       "</table>\n",
       "<p>7787 rows × 12 columns</p>\n",
       "</div>"
      ],
      "text/plain": [
       "     show_id     type                                    title  \\\n",
       "0         s1  TV Show                                       3%   \n",
       "1         s2    Movie                                     7:19   \n",
       "2         s3    Movie                                    23:59   \n",
       "3         s4    Movie                                        9   \n",
       "4         s5    Movie                                       21   \n",
       "...      ...      ...                                      ...   \n",
       "7782   s7783    Movie                                     Zozo   \n",
       "7783   s7784    Movie                                   Zubaan   \n",
       "7784   s7785    Movie                        Zulu Man in Japan   \n",
       "7785   s7786  TV Show                    Zumbo's Just Desserts   \n",
       "7786   s7787    Movie  ZZ TOP: THAT LITTLE OL' BAND FROM TEXAS   \n",
       "\n",
       "               director                                               cast  \\\n",
       "0                   NaN  João Miguel, Bianca Comparato, Michel Gomes, R...   \n",
       "1     Jorge Michel Grau  Demián Bichir, Héctor Bonilla, Oscar Serrano, ...   \n",
       "2          Gilbert Chan  Tedd Chan, Stella Chung, Henley Hii, Lawrence ...   \n",
       "3           Shane Acker  Elijah Wood, John C. Reilly, Jennifer Connelly...   \n",
       "4        Robert Luketic  Jim Sturgess, Kevin Spacey, Kate Bosworth, Aar...   \n",
       "...                 ...                                                ...   \n",
       "7782        Josef Fares  Imad Creidi, Antoinette Turk, Elias Gergi, Car...   \n",
       "7783        Mozez Singh  Vicky Kaushal, Sarah-Jane Dias, Raaghav Chanan...   \n",
       "7784                NaN                                            Nasty C   \n",
       "7785                NaN                         Adriano Zumbo, Rachel Khoo   \n",
       "7786           Sam Dunn                                                NaN   \n",
       "\n",
       "                                                country          date_added  \\\n",
       "0                                                Brazil     August 14, 2020   \n",
       "1                                                Mexico   December 23, 2016   \n",
       "2                                             Singapore   December 20, 2018   \n",
       "3                                         United States   November 16, 2017   \n",
       "4                                         United States     January 1, 2020   \n",
       "...                                                 ...                 ...   \n",
       "7782  Sweden, Czech Republic, United Kingdom, Denmar...    October 19, 2020   \n",
       "7783                                              India       March 2, 2019   \n",
       "7784                                                NaN  September 25, 2020   \n",
       "7785                                          Australia    October 31, 2020   \n",
       "7786              United Kingdom, Canada, United States       March 1, 2020   \n",
       "\n",
       "      release_year rating   duration  \\\n",
       "0             2020  TV-MA  4 Seasons   \n",
       "1             2016  TV-MA     93 min   \n",
       "2             2011      R     78 min   \n",
       "3             2009  PG-13     80 min   \n",
       "4             2008  PG-13    123 min   \n",
       "...            ...    ...        ...   \n",
       "7782          2005  TV-MA     99 min   \n",
       "7783          2015  TV-14    111 min   \n",
       "7784          2019  TV-MA     44 min   \n",
       "7785          2019  TV-PG   1 Season   \n",
       "7786          2019  TV-MA     90 min   \n",
       "\n",
       "                                              listed_in  \\\n",
       "0     International TV Shows, TV Dramas, TV Sci-Fi &...   \n",
       "1                          Dramas, International Movies   \n",
       "2                   Horror Movies, International Movies   \n",
       "3     Action & Adventure, Independent Movies, Sci-Fi...   \n",
       "4                                                Dramas   \n",
       "...                                                 ...   \n",
       "7782                       Dramas, International Movies   \n",
       "7783     Dramas, International Movies, Music & Musicals   \n",
       "7784  Documentaries, International Movies, Music & M...   \n",
       "7785                 International TV Shows, Reality TV   \n",
       "7786                    Documentaries, Music & Musicals   \n",
       "\n",
       "                                            description  \n",
       "0     In a future where the elite inhabit an island ...  \n",
       "1     After a devastating earthquake hits Mexico Cit...  \n",
       "2     When an army recruit is found dead, his fellow...  \n",
       "3     In a postapocalyptic world, rag-doll robots hi...  \n",
       "4     A brilliant group of students become card-coun...  \n",
       "...                                                 ...  \n",
       "7782  When Lebanon's Civil War deprives Zozo of his ...  \n",
       "7783  A scrappy but poor boy worms his way into a ty...  \n",
       "7784  In this documentary, South African rapper Nast...  \n",
       "7785  Dessert wizard Adriano Zumbo looks for the nex...  \n",
       "7786  This documentary delves into the mystique behi...  \n",
       "\n",
       "[7787 rows x 12 columns]"
      ]
     },
     "execution_count": 9,
     "metadata": {},
     "output_type": "execute_result"
    }
   ],
   "source": [
    "netflix"
   ]
  },
  {
   "cell_type": "markdown",
   "metadata": {},
   "source": [
    "#### Nesta linha de codigo fizemos uma grafico barra para representar uma comparação entre a quantidade de filmes e series do catalogo da netflix."
   ]
  },
  {
   "cell_type": "code",
   "execution_count": 10,
   "metadata": {
    "scrolled": false
   },
   "outputs": [
    {
     "data": {
      "text/plain": [
       "<AxesSubplot:xlabel='type', ylabel='count'>"
      ]
     },
     "execution_count": 10,
     "metadata": {},
     "output_type": "execute_result"
    },
    {
     "data": {
      "image/png": "[encoded data removed]",
      "text/plain": [
       "<Figure size 576x432 with 1 Axes>"
      ]
     },
     "metadata": {
      "needs_background": "light"
     },
     "output_type": "display_data"
    }
   ],
   "source": [
    "plt.figure(figsize = (8,6))\n",
    "sns.countplot(x=\"type\", data=netflix, palette=\"ch:s=.20,rot=-.20\")"
   ]
  },
  {
   "cell_type": "markdown",
   "metadata": {},
   "source": [
    "#### Retiramos o tipo serie e deixamos so o tipo filme, para que nesta aba possamos trabalhar so com os filmes da netflix."
   ]
  },
  {
   "cell_type": "code",
   "execution_count": 11,
   "metadata": {
    "scrolled": false
   },
   "outputs": [
    {
     "data": {
      "text/html": [
       "<div>\n",
       "<style scoped>\n",
       "    .dataframe tbody tr th:only-of-type {\n",
       "        vertical-align: middle;\n",
       "    }\n",
       "\n",
       "    .dataframe tbody tr th {\n",
       "        vertical-align: top;\n",
       "    }\n",
       "\n",
       "    .dataframe thead th {\n",
       "        text-align: right;\n",
       "    }\n",
       "</style>\n",
       "<table border=\"1\" class=\"dataframe\">\n",
       "  <thead>\n",
       "    <tr style=\"text-align: right;\">\n",
       "      <th></th>\n",
       "      <th>show_id</th>\n",
       "      <th>type</th>\n",
       "      <th>title</th>\n",
       "      <th>director</th>\n",
       "      <th>cast</th>\n",
       "      <th>country</th>\n",
       "      <th>date_added</th>\n",
       "      <th>release_year</th>\n",
       "      <th>rating</th>\n",
       "      <th>duration</th>\n",
       "      <th>listed_in</th>\n",
       "      <th>description</th>\n",
       "    </tr>\n",
       "  </thead>\n",
       "  <tbody>\n",
       "    <tr>\n",
       "      <th>1</th>\n",
       "      <td>s2</td>\n",
       "      <td>Movie</td>\n",
       "      <td>7:19</td>\n",
       "      <td>Jorge Michel Grau</td>\n",
       "      <td>Demián Bichir, Héctor Bonilla, Oscar Serrano, ...</td>\n",
       "      <td>Mexico</td>\n",
       "      <td>December 23, 2016</td>\n",
       "      <td>2016</td>\n",
       "      <td>TV-MA</td>\n",
       "      <td>93 min</td>\n",
       "      <td>Dramas, International Movies</td>\n",
       "      <td>After a devastating earthquake hits Mexico Cit...</td>\n",
       "    </tr>\n",
       "    <tr>\n",
       "      <th>2</th>\n",
       "      <td>s3</td>\n",
       "      <td>Movie</td>\n",
       "      <td>23:59</td>\n",
       "      <td>Gilbert Chan</td>\n",
       "      <td>Tedd Chan, Stella Chung, Henley Hii, Lawrence ...</td>\n",
       "      <td>Singapore</td>\n",
       "      <td>December 20, 2018</td>\n",
       "      <td>2011</td>\n",
       "      <td>R</td>\n",
       "      <td>78 min</td>\n",
       "      <td>Horror Movies, International Movies</td>\n",
       "      <td>When an army recruit is found dead, his fellow...</td>\n",
       "    </tr>\n",
       "    <tr>\n",
       "      <th>3</th>\n",
       "      <td>s4</td>\n",
       "      <td>Movie</td>\n",
       "      <td>9</td>\n",
       "      <td>Shane Acker</td>\n",
       "      <td>Elijah Wood, John C. Reilly, Jennifer Connelly...</td>\n",
       "      <td>United States</td>\n",
       "      <td>November 16, 2017</td>\n",
       "      <td>2009</td>\n",
       "      <td>PG-13</td>\n",
       "      <td>80 min</td>\n",
       "      <td>Action &amp; Adventure, Independent Movies, Sci-Fi...</td>\n",
       "      <td>In a postapocalyptic world, rag-doll robots hi...</td>\n",
       "    </tr>\n",
       "    <tr>\n",
       "      <th>4</th>\n",
       "      <td>s5</td>\n",
       "      <td>Movie</td>\n",
       "      <td>21</td>\n",
       "      <td>Robert Luketic</td>\n",
       "      <td>Jim Sturgess, Kevin Spacey, Kate Bosworth, Aar...</td>\n",
       "      <td>United States</td>\n",
       "      <td>January 1, 2020</td>\n",
       "      <td>2008</td>\n",
       "      <td>PG-13</td>\n",
       "      <td>123 min</td>\n",
       "      <td>Dramas</td>\n",
       "      <td>A brilliant group of students become card-coun...</td>\n",
       "    </tr>\n",
       "    <tr>\n",
       "      <th>6</th>\n",
       "      <td>s7</td>\n",
       "      <td>Movie</td>\n",
       "      <td>122</td>\n",
       "      <td>Yasir Al Yasiri</td>\n",
       "      <td>Amina Khalil, Ahmed Dawood, Tarek Lotfy, Ahmed...</td>\n",
       "      <td>Egypt</td>\n",
       "      <td>June 1, 2020</td>\n",
       "      <td>2019</td>\n",
       "      <td>TV-MA</td>\n",
       "      <td>95 min</td>\n",
       "      <td>Horror Movies, International Movies</td>\n",
       "      <td>After an awful accident, a couple admitted to ...</td>\n",
       "    </tr>\n",
       "    <tr>\n",
       "      <th>...</th>\n",
       "      <td>...</td>\n",
       "      <td>...</td>\n",
       "      <td>...</td>\n",
       "      <td>...</td>\n",
       "      <td>...</td>\n",
       "      <td>...</td>\n",
       "      <td>...</td>\n",
       "      <td>...</td>\n",
       "      <td>...</td>\n",
       "      <td>...</td>\n",
       "      <td>...</td>\n",
       "      <td>...</td>\n",
       "    </tr>\n",
       "    <tr>\n",
       "      <th>7781</th>\n",
       "      <td>s7782</td>\n",
       "      <td>Movie</td>\n",
       "      <td>Zoom</td>\n",
       "      <td>Peter Hewitt</td>\n",
       "      <td>Tim Allen, Courteney Cox, Chevy Chase, Kate Ma...</td>\n",
       "      <td>United States</td>\n",
       "      <td>January 11, 2020</td>\n",
       "      <td>2006</td>\n",
       "      <td>PG</td>\n",
       "      <td>88 min</td>\n",
       "      <td>Children &amp; Family Movies, Comedies</td>\n",
       "      <td>Dragged from civilian life, a former superhero...</td>\n",
       "    </tr>\n",
       "    <tr>\n",
       "      <th>7782</th>\n",
       "      <td>s7783</td>\n",
       "      <td>Movie</td>\n",
       "      <td>Zozo</td>\n",
       "      <td>Josef Fares</td>\n",
       "      <td>Imad Creidi, Antoinette Turk, Elias Gergi, Car...</td>\n",
       "      <td>Sweden, Czech Republic, United Kingdom, Denmar...</td>\n",
       "      <td>October 19, 2020</td>\n",
       "      <td>2005</td>\n",
       "      <td>TV-MA</td>\n",
       "      <td>99 min</td>\n",
       "      <td>Dramas, International Movies</td>\n",
       "      <td>When Lebanon's Civil War deprives Zozo of his ...</td>\n",
       "    </tr>\n",
       "    <tr>\n",
       "      <th>7783</th>\n",
       "      <td>s7784</td>\n",
       "      <td>Movie</td>\n",
       "      <td>Zubaan</td>\n",
       "      <td>Mozez Singh</td>\n",
       "      <td>Vicky Kaushal, Sarah-Jane Dias, Raaghav Chanan...</td>\n",
       "      <td>India</td>\n",
       "      <td>March 2, 2019</td>\n",
       "      <td>2015</td>\n",
       "      <td>TV-14</td>\n",
       "      <td>111 min</td>\n",
       "      <td>Dramas, International Movies, Music &amp; Musicals</td>\n",
       "      <td>A scrappy but poor boy worms his way into a ty...</td>\n",
       "    </tr>\n",
       "    <tr>\n",
       "      <th>7784</th>\n",
       "      <td>s7785</td>\n",
       "      <td>Movie</td>\n",
       "      <td>Zulu Man in Japan</td>\n",
       "      <td>NaN</td>\n",
       "      <td>Nasty C</td>\n",
       "      <td>NaN</td>\n",
       "      <td>September 25, 2020</td>\n",
       "      <td>2019</td>\n",
       "      <td>TV-MA</td>\n",
       "      <td>44 min</td>\n",
       "      <td>Documentaries, International Movies, Music &amp; M...</td>\n",
       "      <td>In this documentary, South African rapper Nast...</td>\n",
       "    </tr>\n",
       "    <tr>\n",
       "      <th>7786</th>\n",
       "      <td>s7787</td>\n",
       "      <td>Movie</td>\n",
       "      <td>ZZ TOP: THAT LITTLE OL' BAND FROM TEXAS</td>\n",
       "      <td>Sam Dunn</td>\n",
       "      <td>NaN</td>\n",
       "      <td>United Kingdom, Canada, United States</td>\n",
       "      <td>March 1, 2020</td>\n",
       "      <td>2019</td>\n",
       "      <td>TV-MA</td>\n",
       "      <td>90 min</td>\n",
       "      <td>Documentaries, Music &amp; Musicals</td>\n",
       "      <td>This documentary delves into the mystique behi...</td>\n",
       "    </tr>\n",
       "  </tbody>\n",
       "</table>\n",
       "<p>5377 rows × 12 columns</p>\n",
       "</div>"
      ],
      "text/plain": [
       "     show_id   type                                    title  \\\n",
       "1         s2  Movie                                     7:19   \n",
       "2         s3  Movie                                    23:59   \n",
       "3         s4  Movie                                        9   \n",
       "4         s5  Movie                                       21   \n",
       "6         s7  Movie                                      122   \n",
       "...      ...    ...                                      ...   \n",
       "7781   s7782  Movie                                     Zoom   \n",
       "7782   s7783  Movie                                     Zozo   \n",
       "7783   s7784  Movie                                   Zubaan   \n",
       "7784   s7785  Movie                        Zulu Man in Japan   \n",
       "7786   s7787  Movie  ZZ TOP: THAT LITTLE OL' BAND FROM TEXAS   \n",
       "\n",
       "               director                                               cast  \\\n",
       "1     Jorge Michel Grau  Demián Bichir, Héctor Bonilla, Oscar Serrano, ...   \n",
       "2          Gilbert Chan  Tedd Chan, Stella Chung, Henley Hii, Lawrence ...   \n",
       "3           Shane Acker  Elijah Wood, John C. Reilly, Jennifer Connelly...   \n",
       "4        Robert Luketic  Jim Sturgess, Kevin Spacey, Kate Bosworth, Aar...   \n",
       "6       Yasir Al Yasiri  Amina Khalil, Ahmed Dawood, Tarek Lotfy, Ahmed...   \n",
       "...                 ...                                                ...   \n",
       "7781       Peter Hewitt  Tim Allen, Courteney Cox, Chevy Chase, Kate Ma...   \n",
       "7782        Josef Fares  Imad Creidi, Antoinette Turk, Elias Gergi, Car...   \n",
       "7783        Mozez Singh  Vicky Kaushal, Sarah-Jane Dias, Raaghav Chanan...   \n",
       "7784                NaN                                            Nasty C   \n",
       "7786           Sam Dunn                                                NaN   \n",
       "\n",
       "                                                country          date_added  \\\n",
       "1                                                Mexico   December 23, 2016   \n",
       "2                                             Singapore   December 20, 2018   \n",
       "3                                         United States   November 16, 2017   \n",
       "4                                         United States     January 1, 2020   \n",
       "6                                                 Egypt        June 1, 2020   \n",
       "...                                                 ...                 ...   \n",
       "7781                                      United States    January 11, 2020   \n",
       "7782  Sweden, Czech Republic, United Kingdom, Denmar...    October 19, 2020   \n",
       "7783                                              India       March 2, 2019   \n",
       "7784                                                NaN  September 25, 2020   \n",
       "7786              United Kingdom, Canada, United States       March 1, 2020   \n",
       "\n",
       "      release_year rating duration  \\\n",
       "1             2016  TV-MA   93 min   \n",
       "2             2011      R   78 min   \n",
       "3             2009  PG-13   80 min   \n",
       "4             2008  PG-13  123 min   \n",
       "6             2019  TV-MA   95 min   \n",
       "...            ...    ...      ...   \n",
       "7781          2006     PG   88 min   \n",
       "7782          2005  TV-MA   99 min   \n",
       "7783          2015  TV-14  111 min   \n",
       "7784          2019  TV-MA   44 min   \n",
       "7786          2019  TV-MA   90 min   \n",
       "\n",
       "                                              listed_in  \\\n",
       "1                          Dramas, International Movies   \n",
       "2                   Horror Movies, International Movies   \n",
       "3     Action & Adventure, Independent Movies, Sci-Fi...   \n",
       "4                                                Dramas   \n",
       "6                   Horror Movies, International Movies   \n",
       "...                                                 ...   \n",
       "7781                 Children & Family Movies, Comedies   \n",
       "7782                       Dramas, International Movies   \n",
       "7783     Dramas, International Movies, Music & Musicals   \n",
       "7784  Documentaries, International Movies, Music & M...   \n",
       "7786                    Documentaries, Music & Musicals   \n",
       "\n",
       "                                            description  \n",
       "1     After a devastating earthquake hits Mexico Cit...  \n",
       "2     When an army recruit is found dead, his fellow...  \n",
       "3     In a postapocalyptic world, rag-doll robots hi...  \n",
       "4     A brilliant group of students become card-coun...  \n",
       "6     After an awful accident, a couple admitted to ...  \n",
       "...                                                 ...  \n",
       "7781  Dragged from civilian life, a former superhero...  \n",
       "7782  When Lebanon's Civil War deprives Zozo of his ...  \n",
       "7783  A scrappy but poor boy worms his way into a ty...  \n",
       "7784  In this documentary, South African rapper Nast...  \n",
       "7786  This documentary delves into the mystique behi...  \n",
       "\n",
       "[5377 rows x 12 columns]"
      ]
     },
     "execution_count": 11,
     "metadata": {},
     "output_type": "execute_result"
    }
   ],
   "source": [
    "netflix_filmes = netflix.loc[netflix[\"type\"] == \"Movie\"]\n",
    "netflix_filmes"
   ]
  },
  {
   "cell_type": "markdown",
   "metadata": {},
   "source": [
    "# Pergunta:\n",
    "## Varição de filmes adicionados na netflix?"
   ]
  },
  {
   "cell_type": "markdown",
   "metadata": {},
   "source": [
    "### Limpamos a coluna date_added para pegar so o ano, com isso nos pudéssemos fazer um gráfico com a variação de filmes adicionados na netflix."
   ]
  },
  {
   "cell_type": "code",
   "execution_count": 21,
   "metadata": {
    "scrolled": false
   },
   "outputs": [
    {
     "name": "stderr",
     "output_type": "stream",
     "text": [
      "<ipython-input-21-08737abf3f61>:3: SettingWithCopyWarning: \n",
      "A value is trying to be set on a copy of a slice from a DataFrame.\n",
      "Try using .loc[row_indexer,col_indexer] = value instead\n",
      "\n",
      "See the caveats in the documentation: https://pandas.pydata.org/pandas-docs/stable/user_guide/indexing.html#returning-a-view-versus-a-copy\n",
      "  netflix_filmess[\"date_added\"] = pd.to_datetime(non_tbd_dates)\n",
      "<ipython-input-21-08737abf3f61>:4: SettingWithCopyWarning: \n",
      "A value is trying to be set on a copy of a slice from a DataFrame.\n",
      "Try using .loc[row_indexer,col_indexer] = value instead\n",
      "\n",
      "See the caveats in the documentation: https://pandas.pydata.org/pandas-docs/stable/user_guide/indexing.html#returning-a-view-versus-a-copy\n",
      "  netflix_filmess[\"date_added\"] = netflix_filmess[\"date_added\"].dt.year\n"
     ]
    }
   ],
   "source": [
    "non_tbd_dates = netflix_filmes[\"date_added\"][netflix_filmes[\"date_added\"] != \"NAN\"]\n",
    "netflix_filmess = netflix_filmes\n",
    "netflix_filmess[\"date_added\"] = pd.to_datetime(non_tbd_dates)\n",
    "netflix_filmess[\"date_added\"] = netflix_filmess[\"date_added\"].dt.year\n",
    "x = pd.DataFrame(netflix_filmess, columns= [\"date_added\"])\n",
    "date_added_filmes = x.pivot_table(index=[\"date_added\"], aggfunc='size')"
   ]
  },
  {
   "cell_type": "code",
   "execution_count": 36,
   "metadata": {
    "scrolled": false
   },
   "outputs": [
    {
     "data": {
      "text/plain": [
       "date_added\n",
       "2008       1\n",
       "2009       2\n",
       "2010       1\n",
       "2011      13\n",
       "2012       3\n",
       "2013       6\n",
       "2014      19\n",
       "2015      58\n",
       "2016     258\n",
       "2017     864\n",
       "2018    1255\n",
       "2019    1497\n",
       "2020    1312\n",
       "2021      88\n",
       "dtype: int64"
      ]
     },
     "execution_count": 36,
     "metadata": {},
     "output_type": "execute_result"
    }
   ],
   "source": [
    "date_added_filmes"
   ]
  },
  {
   "cell_type": "code",
   "execution_count": 13,
   "metadata": {
    "scrolled": true
   },
   "outputs": [
    {
     "data": {
      "text/plain": [
       "<AxesSubplot:xlabel='date_added'>"
      ]
     },
     "execution_count": 13,
     "metadata": {},
     "output_type": "execute_result"
    },
    {
     "data": {
      "image/png": "[encoded data removed]",
      "text/plain": [
       "<Figure size 1008x720 with 1 Axes>"
      ]
     },
     "metadata": {
      "needs_background": "light"
     },
     "output_type": "display_data"
    }
   ],
   "source": [
    "plt.figure(figsize = (14,10))\n",
    "sns.lineplot(data = date_added_filmes,  x = \"date_added\" , y = date_added_filmes , marker=\"o\")"
   ]
  },
  {
   "cell_type": "markdown",
   "metadata": {},
   "source": [
    "### Grafico de representação do ano de lançamento dos filmes"
   ]
  },
  {
   "cell_type": "code",
   "execution_count": 14,
   "metadata": {
    "scrolled": false
   },
   "outputs": [
    {
     "data": {
      "text/plain": [
       "<seaborn.axisgrid.FacetGrid at 0x28eb7868af0>"
      ]
     },
     "execution_count": 14,
     "metadata": {},
     "output_type": "execute_result"
    },
    {
     "data": {
      "image/png": "[encoded data removed]",
      "text/plain": [
       "<Figure size 360x360 with 1 Axes>"
      ]
     },
     "metadata": {
      "needs_background": "light"
     },
     "output_type": "display_data"
    }
   ],
   "source": [
    "sns.displot(netflix_filmes, x=\"release_year\",binwidth=1)"
   ]
  },
  {
   "cell_type": "code",
   "execution_count": 15,
   "metadata": {
    "scrolled": true
   },
   "outputs": [
    {
     "data": {
      "text/plain": [
       "<seaborn.axisgrid.FacetGrid at 0x28eb1a3cd60>"
      ]
     },
     "execution_count": 15,
     "metadata": {},
     "output_type": "execute_result"
    },
    {
     "data": {
      "image/png": "[encoded data removed]",
      "text/plain": [
       "<Figure size 360x360 with 1 Axes>"
      ]
     },
     "metadata": {
      "needs_background": "light"
     },
     "output_type": "display_data"
    }
   ],
   "source": [
    "sns.displot(netflix_filmess, x=\"date_added\",binwidth=0.5)"
   ]
  },
  {
   "cell_type": "markdown",
   "metadata": {},
   "source": [
    "# Pergunta:\n",
    "## Qual o gênero de filme mais predominante no catálogo da netflix?"
   ]
  },
  {
   "cell_type": "code",
   "execution_count": 17,
   "metadata": {
    "scrolled": false
   },
   "outputs": [
    {
     "data": {
      "text/plain": [
       "listed_in\n",
       "Action & Adventure                                               99\n",
       "Action & Adventure, Anime Features, Children & Family Movies      3\n",
       "Action & Adventure, Anime Features, Classic Movies                1\n",
       "Action & Adventure, Anime Features, Horror Movies                 1\n",
       "Action & Adventure, Anime Features, International Movies         28\n",
       "                                                               ... \n",
       "Sci-Fi & Fantasy                                                  1\n",
       "Sci-Fi & Fantasy, Thrillers                                      10\n",
       "Sports Movies                                                     1\n",
       "Stand-Up Comedy                                                 321\n",
       "Thrillers                                                        49\n",
       "Length: 265, dtype: int64"
      ]
     },
     "execution_count": 17,
     "metadata": {},
     "output_type": "execute_result"
    }
   ],
   "source": [
    "x = pd.DataFrame(netflix_filmes, columns= [\"listed_in\"])\n",
    "generos = x.pivot_table(index=[\"listed_in\"], aggfunc='size')\n",
    "generos"
   ]
  },
  {
   "cell_type": "code",
   "execution_count": 18,
   "metadata": {
    "scrolled": true
   },
   "outputs": [
    {
     "data": {
      "text/plain": [
       "listed_in\n",
       "Documentaries                                              334\n",
       "Stand-Up Comedy                                            321\n",
       "Dramas, International Movies                               320\n",
       "Comedies, Dramas, International Movies                     243\n",
       "Dramas, Independent Movies, International Movies           215\n",
       "                                                          ... \n",
       "Anime Features, Romantic Movies                              1\n",
       "Children & Family Movies, Classic Movies                     1\n",
       "Comedies, Romantic Movies, Sports Movies                     1\n",
       "Children & Family Movies, Classic Movies, Dramas             1\n",
       "International Movies, Romantic Movies, Sci-Fi & Fantasy      1\n",
       "Length: 265, dtype: int64"
      ]
     },
     "execution_count": 18,
     "metadata": {},
     "output_type": "execute_result"
    }
   ],
   "source": [
    "generos.sort_values(ascending = False)"
   ]
  },
  {
   "cell_type": "markdown",
   "metadata": {},
   "source": [
    "# Pergunta:\n",
    "## Quais são os 5 diretores com mais filmes que estão presentes no catálogo da netflix?"
   ]
  },
  {
   "cell_type": "code",
   "execution_count": 19,
   "metadata": {},
   "outputs": [
    {
     "data": {
      "text/plain": [
       "director\n",
       "A. L. Vijay            2\n",
       "A. Raajdheep           1\n",
       "A. Salaam              1\n",
       "A.R. Murugadoss        2\n",
       "Aadish Keluskar        1\n",
       "                      ..\n",
       "Çagan Irmak            1\n",
       "Ísold Uggadóttir       1\n",
       "Óskar Thór Axelsson    1\n",
       "Ömer Faruk Sorak       2\n",
       "Şenol Sönmez           2\n",
       "Length: 3909, dtype: int64"
      ]
     },
     "execution_count": 19,
     "metadata": {},
     "output_type": "execute_result"
    }
   ],
   "source": [
    "x = pd.DataFrame(netflix_filmes, columns= [\"director\"])\n",
    "top_directors = x.pivot_table(index=[\"director\"], aggfunc='size')\n",
    "top_directors"
   ]
  },
  {
   "cell_type": "code",
   "execution_count": 20,
   "metadata": {
    "scrolled": false
   },
   "outputs": [
    {
     "data": {
      "text/plain": [
       "director\n",
       "Raúl Campos, Jan Suter    18\n",
       "Marcus Raboy              15\n",
       "Jay Karas                 14\n",
       "Cathy Garcia-Molina       13\n",
       "Youssef Chahine           12\n",
       "                          ..\n",
       "Macon Blair                1\n",
       "Maciej Dejczer             1\n",
       "M.J. Isakson               1\n",
       "M.J. Bassett               1\n",
       "Khalid Mohamed             1\n",
       "Length: 3909, dtype: int64"
      ]
     },
     "execution_count": 20,
     "metadata": {},
     "output_type": "execute_result"
    }
   ],
   "source": [
    "top_directors.sort_values(ascending = False)"
   ]
  },
  {
   "cell_type": "code",
   "execution_count": 30,
   "metadata": {},
   "outputs": [
    {
     "data": {
      "text/plain": [
       "['Raúl Campos, Jan Suter', 'Marcus Raboy', 'Jay Karas', 'Cathy Garcia-Molina']"
      ]
     },
     "execution_count": 30,
     "metadata": {},
     "output_type": "execute_result"
    }
   ],
   "source": [
    "netflix_filmes[\"director\"].value_counts()[:4].index.tolist()"
   ]
  },
  {
   "cell_type": "markdown",
   "metadata": {},
   "source": [
    "#### Pegamos a coluna country para saber qual o pais q teve mais produção de filme."
   ]
  },
  {
   "cell_type": "code",
   "execution_count": 22,
   "metadata": {},
   "outputs": [
    {
     "data": {
      "text/plain": [
       "country\n",
       "Argentina                                              34\n",
       "Argentina, Brazil, France, Poland, Germany, Denmark     1\n",
       "Argentina, Chile                                        1\n",
       "Argentina, Chile, Peru                                  1\n",
       "Argentina, France                                       1\n",
       "                                                       ..\n",
       "Venezuela                                               1\n",
       "Venezuela, Colombia                                     1\n",
       "Vietnam                                                 5\n",
       "West Germany                                            1\n",
       "Zimbabwe                                                1\n",
       "Length: 590, dtype: int64"
      ]
     },
     "execution_count": 22,
     "metadata": {},
     "output_type": "execute_result"
    }
   ],
   "source": [
    "x = pd.DataFrame(netflix_filmes, columns= [\"country\"])\n",
    "top_country = x.pivot_table(index=[\"country\"], aggfunc='size')\n",
    "top_country"
   ]
  },
  {
   "cell_type": "code",
   "execution_count": 23,
   "metadata": {
    "scrolled": true
   },
   "outputs": [
    {
     "data": {
      "text/plain": [
       "country\n",
       "United States                            1850\n",
       "India                                     852\n",
       "United Kingdom                            193\n",
       "Canada                                    118\n",
       "Egypt                                      89\n",
       "                                         ... \n",
       "Portugal, Spain                             1\n",
       "United States, Canada, Japan, Panama        1\n",
       "Romania, Bulgaria, Hungary                  1\n",
       "Romania, France, Switzerland, Germany       1\n",
       "Zimbabwe                                    1\n",
       "Length: 590, dtype: int64"
      ]
     },
     "execution_count": 23,
     "metadata": {},
     "output_type": "execute_result"
    }
   ],
   "source": [
    "top_country.sort_values(ascending = False)"
   ]
  },
  {
   "cell_type": "code",
   "execution_count": 24,
   "metadata": {},
   "outputs": [
    {
     "data": {
      "text/plain": [
       "['United States', 'India', 'United Kingdom']"
      ]
     },
     "execution_count": 24,
     "metadata": {},
     "output_type": "execute_result"
    }
   ],
   "source": [
    "netflix_filmes[\"country\"].value_counts()[:3].index.tolist()"
   ]
  },
  {
   "cell_type": "markdown",
   "metadata": {},
   "source": [
    "#### Pegamos as colunas director e country para ver quantos filmes um unico diretor fez em um determinado pais."
   ]
  },
  {
   "cell_type": "code",
   "execution_count": 25,
   "metadata": {
    "scrolled": false
   },
   "outputs": [
    {
     "data": {
      "text/plain": [
       "director             country                                                        \n",
       "Marcus Raboy         United States                                                      14\n",
       "Jay Karas            United States                                                      14\n",
       "Cathy Garcia-Molina  Philippines                                                        13\n",
       "Jay Chapman          United States                                                      12\n",
       "David Dhawan         India                                                               9\n",
       "                                                                                        ..\n",
       "Martin Campbell      United States, Germany, Mexico                                      1\n",
       "                     United Kingdom, United States                                       1\n",
       "                     United Kingdom, Czech Republic, United States, Germany, Bahamas     1\n",
       "                     United Kingdom, China, United States, India                         1\n",
       "Kiran Rao            India                                                               1\n",
       "Length: 4080, dtype: int64"
      ]
     },
     "execution_count": 25,
     "metadata": {},
     "output_type": "execute_result"
    }
   ],
   "source": [
    "x = pd.DataFrame(netflix_filmes, columns= [\"director\",\"country\"])\n",
    "directors_and_country = x.pivot_table(index=[\"director\",\"country\"], aggfunc='size')\n",
    "directors_and_country.sort_values(ascending = False)"
   ]
  },
  {
   "cell_type": "markdown",
   "metadata": {},
   "source": [
    "#### Pegamos as colunas director e listed_in para ver qual categoria de filme um determinado diretor tem mais produção. "
   ]
  },
  {
   "cell_type": "code",
   "execution_count": 26,
   "metadata": {
    "scrolled": true
   },
   "outputs": [
    {
     "data": {
      "text/plain": [
       "director                    listed_in                                    \n",
       "Raúl Campos, Jan Suter      Stand-Up Comedy                                  18\n",
       "Marcus Raboy                Stand-Up Comedy                                  15\n",
       "Jay Karas                   Stand-Up Comedy                                  13\n",
       "Jay Chapman                 Stand-Up Comedy                                  12\n",
       "Shannon Hartman             Stand-Up Comedy                                   8\n",
       "                                                                             ..\n",
       "Neeraj Pandey               Dramas, International Movies, Thrillers           1\n",
       "Neal Brennan                Comedies                                          1\n",
       "Naya Anindita               Dramas, International Movies, Romantic Movies     1\n",
       "Nawapol Thamrongrattanarit  Dramas, International Movies, Romantic Movies     1\n",
       "A. L. Vijay                 Comedies, Dramas, International Movies            1\n",
       "Length: 4649, dtype: int64"
      ]
     },
     "execution_count": 26,
     "metadata": {},
     "output_type": "execute_result"
    }
   ],
   "source": [
    "x = pd.DataFrame(netflix_filmes, columns= [\"director\",\"listed_in\"])\n",
    "directors_and_gender = x.pivot_table(index=[\"director\",\"listed_in\"], aggfunc='size')\n",
    "directors_and_gender.sort_values(ascending = False)"
   ]
  },
  {
   "cell_type": "markdown",
   "metadata": {},
   "source": [
    "#### Tivemos uma ideia de fazer um grafico de duração dos filmes em minutos,mas tivemos o problema de q no nosso data set a coluna duration apresentava o min em cada linha para determinar q estava em minutos a representação de tempo dessa coluna,então para isso fizemos a limpeza de dado removendo o min."
   ]
  },
  {
   "cell_type": "code",
   "execution_count": 27,
   "metadata": {
    "scrolled": true
   },
   "outputs": [
    {
     "name": "stderr",
     "output_type": "stream",
     "text": [
      "<ipython-input-27-d1a8d9d4df3c>:1: SettingWithCopyWarning: \n",
      "A value is trying to be set on a copy of a slice from a DataFrame.\n",
      "Try using .loc[row_indexer,col_indexer] = value instead\n",
      "\n",
      "See the caveats in the documentation: https://pandas.pydata.org/pandas-docs/stable/user_guide/indexing.html#returning-a-view-versus-a-copy\n",
      "  netflix_filmes['duration']=netflix_filmes['duration'].str.replace(' min','')\n",
      "<ipython-input-27-d1a8d9d4df3c>:2: SettingWithCopyWarning: \n",
      "A value is trying to be set on a copy of a slice from a DataFrame.\n",
      "Try using .loc[row_indexer,col_indexer] = value instead\n",
      "\n",
      "See the caveats in the documentation: https://pandas.pydata.org/pandas-docs/stable/user_guide/indexing.html#returning-a-view-versus-a-copy\n",
      "  netflix_filmes['duration']=netflix_filmes['duration'].astype(str).astype(int)\n"
     ]
    }
   ],
   "source": [
    "netflix_filmes['duration']=netflix_filmes['duration'].str.replace(' min','')\n",
    "netflix_filmes['duration']=netflix_filmes['duration'].astype(str).astype(int)"
   ]
  },
  {
   "cell_type": "code",
   "execution_count": 28,
   "metadata": {
    "scrolled": true
   },
   "outputs": [
    {
     "data": {
      "text/plain": [
       "<AxesSubplot:xlabel='duration', ylabel='Density'>"
      ]
     },
     "execution_count": 28,
     "metadata": {},
     "output_type": "execute_result"
    },
    {
     "data": {
      "image/png": "[encoded data removed]",
      "text/plain": [
       "<Figure size 432x288 with 1 Axes>"
      ]
     },
     "metadata": {},
     "output_type": "display_data"
    }
   ],
   "source": [
    "sns.set(style=\"darkgrid\")\n",
    "sns.kdeplot(data=netflix_filmes[\"duration\"], shade=True)"
   ]
  },
  {
   "cell_type": "markdown",
   "metadata": {},
   "source": [
    "#### Fizemos esse grafico para sabermos qual classificação de filme é predominante no catalogo da netflix."
   ]
  },
  {
   "cell_type": "code",
   "execution_count": 29,
   "metadata": {
    "scrolled": false
   },
   "outputs": [
    {
     "data": {
      "text/plain": [
       "<AxesSubplot:xlabel='rating', ylabel='count'>"
      ]
     },
     "execution_count": 29,
     "metadata": {},
     "output_type": "execute_result"
    },
    {
     "data": {
      "image/png": "[encoded data removed]",
      "text/plain": [
       "<Figure size 1008x720 with 1 Axes>"
      ]
     },
     "metadata": {},
     "output_type": "display_data"
    }
   ],
   "source": [
    "plt.figure(figsize = (14,10))\n",
    "sns.countplot(x=\"rating\", data=netflix_filmes, palette=\"Set2\", order=netflix_filmes[\"rating\"].value_counts().index[1:15])"
   ]
  },
  {
   "cell_type": "markdown",
   "metadata": {},
   "source": [
    "## Significado de cada classificação acima:\n",
    "#### TV-14  = Não recomendado para menores de 14 anos.\n",
    "##### A classificação \"TV-14\" podem ser acompanhadas por um ou mais das seguintes sub-classificações:\n",
    "##### D = para diálogos.\n",
    "##### L = para linguagem inapropriada leve ou infrequente ou um pouco intensa.\n",
    "##### S = para conteudo sexuais forte.\n",
    "##### V = para violência leve ou intensa.\n",
    "\n",
    "#### R = O filme contém algum tipo de conteúdo adulto.\n",
    "\n",
    "#### TV-PG = Classificação destinada com a orientação parental. Esta classificação significa que o programa pode não ser adequado para crianças menores sem a orientação dos pais.\n",
    "#### A classificação PG-TV podem ser acompanhadas por um ou mais das seguintes sub-classificações:\n",
    "#### D = para diálogos.\n",
    "##### L = para linguagem inapropriada leve ou infrequente.\n",
    "##### S = para algumas com conteúdos sexuais.\n",
    "##### V = para violência leve.\n",
    "\n",
    "#### PG-13 = Parental guidance 13 (orientação dos pais, para crianças abaixo de 13 anos, fortemente sugerida).\n",
    "\n",
    "#### PG = Esta classificação significa que o programa pode não ser adequado para crianças menores sem a orientação dos pais.\n",
    "\n",
    "#### TV-Y = Conteúdo infantil.\n",
    "##### Animações ou live-actions infantis, os temas e os elementos neste programa são projetados especificamente para um público muito jovem, incluindo crianças de idades 2 à 6.\n",
    "\n",
    "#### TV-G = Recomendado para todos os públicos.\n",
    "##### Embora, esta classificação não é muito usado para ser atribuído nas animações especificamente para crianças, a maioria dos pais podem deixar as crianças mais jovens assistir este programa autônomo.\n",
    "\n",
    "#### TV-Y7 = Não recomendado para menores de 7 anos.\n",
    "\n",
    "#### NR = Não recomendado. Responsável: parentes até o 4º grau maiores de idade (pais, avós, padrastos, irmãos, tios, primos), tutor, curador ou o detentor da guarda.\n",
    "\n",
    "#### G = significa que o filme é liberado para pra todo mundo, numa tradução livre de “general audiences”.\n",
    "\n",
    "#### TV-Y7-FV = Não recomendado para menores de 7 anos com violência fantasiosa.\n"
   ]
  },
  {
   "cell_type": "markdown",
   "metadata": {},
   "source": [
    "# conclusão:\n",
    "#### Com esse nosso trabalho indentificamos que a quantidades de filmes presentes no catálogo da netflix comparado com o de series é quase duas vezes maior que o de series. Podemos perceber que no decorrer dos anos a netflix vem aumentando a quantidade de series lançadas por ano, que tambem a categoria de stand - up é a categoria que mais apresentas filmes em seu catalogo e entre outras coisas a mais.\n",
    "#### Uma das nossas limitações que mais impactou, pode se dizer que seja a maioria das colunas desse nosso dataset era de linhas em string, onde elas acabaram dificultando para  fazermos graficos com seus conteudos.\n",
    "#### Nos gostariamos que se fossemos trabalhar denovo com esse tema que tivessemos mais colunas detalhando um pouco mais sobre cada filme/serie presente no catalogo da netflix, exemplo: uma coluna mostrando quantas pessoas assistiram esse filme/series, se o filme/serie foi feito pela netflix ou não,qual a avalição desse filme/series(se o público gostou dele), No caso um dataset com uma riqueza de detalhes."
   ]
  },
  {
   "cell_type": "code",
   "execution_count": null,
   "metadata": {},
   "outputs": [],
   "source": []
  }
 ],
 "metadata": {
  "kernelspec": {
   "display_name": "Python 3",
   "language": "python",
   "name": "python3"
  },
  "language_info": {
   "codemirror_mode": {
    "name": "ipython",
    "version": 3
   },
   "file_extension": ".py",
   "mimetype": "text/x-python",
   "name": "python",
   "nbconvert_exporter": "python",
   "pygments_lexer": "ipython3",
   "version": "3.8.3"
  }
 },
 "nbformat": 4,
 "nbformat_minor": 4
}
