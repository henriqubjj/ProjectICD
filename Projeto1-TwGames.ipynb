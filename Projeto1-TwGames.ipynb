{
 "cells": [
  {
   "cell_type": "code",
   "execution_count": 46,
   "metadata": {
    "scrolled": false
   },
   "outputs": [
    {
     "data": {
      "text/html": [
       "<div>\n",
       "<style scoped>\n",
       "    .dataframe tbody tr th:only-of-type {\n",
       "        vertical-align: middle;\n",
       "    }\n",
       "\n",
       "    .dataframe tbody tr th {\n",
       "        vertical-align: top;\n",
       "    }\n",
       "\n",
       "    .dataframe thead th {\n",
       "        text-align: right;\n",
       "    }\n",
       "</style>\n",
       "<table border=\"1\" class=\"dataframe\">\n",
       "  <thead>\n",
       "    <tr style=\"text-align: right;\">\n",
       "      <th></th>\n",
       "      <th>Rank</th>\n",
       "      <th>Game</th>\n",
       "      <th>Month</th>\n",
       "      <th>Year</th>\n",
       "      <th>Hours_watched</th>\n",
       "      <th>Hours_Streamed</th>\n",
       "      <th>Peak_viewers</th>\n",
       "      <th>Peak_channels</th>\n",
       "      <th>Streamers</th>\n",
       "      <th>Avg_viewers</th>\n",
       "      <th>Avg_channels</th>\n",
       "      <th>Avg_viewer_ratio</th>\n",
       "    </tr>\n",
       "  </thead>\n",
       "  <tbody>\n",
       "    <tr>\n",
       "      <th>0</th>\n",
       "      <td>1</td>\n",
       "      <td>League of Legends</td>\n",
       "      <td>1</td>\n",
       "      <td>2016</td>\n",
       "      <td>94377226</td>\n",
       "      <td>1362044</td>\n",
       "      <td>530270</td>\n",
       "      <td>2903</td>\n",
       "      <td>129172</td>\n",
       "      <td>127021</td>\n",
       "      <td>1833</td>\n",
       "      <td>69.29</td>\n",
       "    </tr>\n",
       "    <tr>\n",
       "      <th>1</th>\n",
       "      <td>2</td>\n",
       "      <td>Counter-Strike: Global Offensive</td>\n",
       "      <td>1</td>\n",
       "      <td>2016</td>\n",
       "      <td>47832863</td>\n",
       "      <td>830105</td>\n",
       "      <td>372654</td>\n",
       "      <td>2197</td>\n",
       "      <td>120849</td>\n",
       "      <td>64378</td>\n",
       "      <td>1117</td>\n",
       "      <td>57.62</td>\n",
       "    </tr>\n",
       "    <tr>\n",
       "      <th>2</th>\n",
       "      <td>3</td>\n",
       "      <td>Dota 2</td>\n",
       "      <td>1</td>\n",
       "      <td>2016</td>\n",
       "      <td>45185893</td>\n",
       "      <td>433397</td>\n",
       "      <td>315083</td>\n",
       "      <td>1100</td>\n",
       "      <td>44074</td>\n",
       "      <td>60815</td>\n",
       "      <td>583</td>\n",
       "      <td>104.26</td>\n",
       "    </tr>\n",
       "    <tr>\n",
       "      <th>3</th>\n",
       "      <td>4</td>\n",
       "      <td>Hearthstone</td>\n",
       "      <td>1</td>\n",
       "      <td>2016</td>\n",
       "      <td>39936159</td>\n",
       "      <td>235903</td>\n",
       "      <td>131357</td>\n",
       "      <td>517</td>\n",
       "      <td>36170</td>\n",
       "      <td>53749</td>\n",
       "      <td>317</td>\n",
       "      <td>169.29</td>\n",
       "    </tr>\n",
       "    <tr>\n",
       "      <th>4</th>\n",
       "      <td>5</td>\n",
       "      <td>Call of Duty: Black Ops III</td>\n",
       "      <td>1</td>\n",
       "      <td>2016</td>\n",
       "      <td>16153057</td>\n",
       "      <td>1151578</td>\n",
       "      <td>71639</td>\n",
       "      <td>3620</td>\n",
       "      <td>214054</td>\n",
       "      <td>21740</td>\n",
       "      <td>1549</td>\n",
       "      <td>14.03</td>\n",
       "    </tr>\n",
       "    <tr>\n",
       "      <th>...</th>\n",
       "      <td>...</td>\n",
       "      <td>...</td>\n",
       "      <td>...</td>\n",
       "      <td>...</td>\n",
       "      <td>...</td>\n",
       "      <td>...</td>\n",
       "      <td>...</td>\n",
       "      <td>...</td>\n",
       "      <td>...</td>\n",
       "      <td>...</td>\n",
       "      <td>...</td>\n",
       "      <td>...</td>\n",
       "    </tr>\n",
       "    <tr>\n",
       "      <th>12745</th>\n",
       "      <td>196</td>\n",
       "      <td>Cuphead</td>\n",
       "      <td>4</td>\n",
       "      <td>2021</td>\n",
       "      <td>795329</td>\n",
       "      <td>31721</td>\n",
       "      <td>90364</td>\n",
       "      <td>98</td>\n",
       "      <td>7795</td>\n",
       "      <td>1106</td>\n",
       "      <td>44</td>\n",
       "      <td>25.07</td>\n",
       "    </tr>\n",
       "    <tr>\n",
       "      <th>12746</th>\n",
       "      <td>197</td>\n",
       "      <td>Hades</td>\n",
       "      <td>4</td>\n",
       "      <td>2021</td>\n",
       "      <td>794472</td>\n",
       "      <td>52755</td>\n",
       "      <td>36447</td>\n",
       "      <td>152</td>\n",
       "      <td>8663</td>\n",
       "      <td>1104</td>\n",
       "      <td>73</td>\n",
       "      <td>15.06</td>\n",
       "    </tr>\n",
       "    <tr>\n",
       "      <th>12747</th>\n",
       "      <td>198</td>\n",
       "      <td>Epic Seven</td>\n",
       "      <td>4</td>\n",
       "      <td>2021</td>\n",
       "      <td>778750</td>\n",
       "      <td>18362</td>\n",
       "      <td>11670</td>\n",
       "      <td>47</td>\n",
       "      <td>997</td>\n",
       "      <td>1083</td>\n",
       "      <td>25</td>\n",
       "      <td>42.41</td>\n",
       "    </tr>\n",
       "    <tr>\n",
       "      <th>12748</th>\n",
       "      <td>199</td>\n",
       "      <td>Pok&lt;U+00E9&gt;mon Platinum</td>\n",
       "      <td>4</td>\n",
       "      <td>2021</td>\n",
       "      <td>777305</td>\n",
       "      <td>22380</td>\n",
       "      <td>61580</td>\n",
       "      <td>76</td>\n",
       "      <td>2837</td>\n",
       "      <td>1081</td>\n",
       "      <td>31</td>\n",
       "      <td>34.73</td>\n",
       "    </tr>\n",
       "    <tr>\n",
       "      <th>12749</th>\n",
       "      <td>200</td>\n",
       "      <td>Farming Simulator 19</td>\n",
       "      <td>4</td>\n",
       "      <td>2021</td>\n",
       "      <td>771697</td>\n",
       "      <td>91602</td>\n",
       "      <td>11019</td>\n",
       "      <td>319</td>\n",
       "      <td>7942</td>\n",
       "      <td>1073</td>\n",
       "      <td>127</td>\n",
       "      <td>8.42</td>\n",
       "    </tr>\n",
       "  </tbody>\n",
       "</table>\n",
       "<p>12750 rows × 12 columns</p>\n",
       "</div>"
      ],
      "text/plain": [
       "       Rank                              Game  Month  Year  Hours_watched  \\\n",
       "0         1                 League of Legends      1  2016       94377226   \n",
       "1         2  Counter-Strike: Global Offensive      1  2016       47832863   \n",
       "2         3                            Dota 2      1  2016       45185893   \n",
       "3         4                       Hearthstone      1  2016       39936159   \n",
       "4         5       Call of Duty: Black Ops III      1  2016       16153057   \n",
       "...     ...                               ...    ...   ...            ...   \n",
       "12745   196                           Cuphead      4  2021         795329   \n",
       "12746   197                             Hades      4  2021         794472   \n",
       "12747   198                        Epic Seven      4  2021         778750   \n",
       "12748   199           Pok<U+00E9>mon Platinum      4  2021         777305   \n",
       "12749   200              Farming Simulator 19      4  2021         771697   \n",
       "\n",
       "       Hours_Streamed  Peak_viewers  Peak_channels  Streamers  Avg_viewers  \\\n",
       "0             1362044        530270           2903     129172       127021   \n",
       "1              830105        372654           2197     120849        64378   \n",
       "2              433397        315083           1100      44074        60815   \n",
       "3              235903        131357            517      36170        53749   \n",
       "4             1151578         71639           3620     214054        21740   \n",
       "...               ...           ...            ...        ...          ...   \n",
       "12745           31721         90364             98       7795         1106   \n",
       "12746           52755         36447            152       8663         1104   \n",
       "12747           18362         11670             47        997         1083   \n",
       "12748           22380         61580             76       2837         1081   \n",
       "12749           91602         11019            319       7942         1073   \n",
       "\n",
       "       Avg_channels  Avg_viewer_ratio  \n",
       "0              1833             69.29  \n",
       "1              1117             57.62  \n",
       "2               583            104.26  \n",
       "3               317            169.29  \n",
       "4              1549             14.03  \n",
       "...             ...               ...  \n",
       "12745            44             25.07  \n",
       "12746            73             15.06  \n",
       "12747            25             42.41  \n",
       "12748            31             34.73  \n",
       "12749           127              8.42  \n",
       "\n",
       "[12750 rows x 12 columns]"
      ]
     },
     "execution_count": 46,
     "metadata": {},
     "output_type": "execute_result"
    }
   ],
   "source": [
    "import pandas as pd\n",
    "import numpy as np\n",
    "import math as mt\n",
    "import statistics as st\n",
    "import matplotlib.pyplot as plt\n",
    "TwGames = pd.read_csv('Twitch_game_data.csv')\n",
    "TwGames"
   ]
  },
  {
   "cell_type": "markdown",
   "metadata": {},
   "source": [
    "### Média"
   ]
  },
  {
   "cell_type": "code",
   "execution_count": 21,
   "metadata": {},
   "outputs": [
    {
     "name": "stdout",
     "output_type": "stream",
     "text": [
      "Média Hours_watched: 4275710.941411764\n",
      "Média Hours_Streamed: 141869.72\n",
      "Média Peak_viewers: 49662.298588235295\n",
      "Média Peak_channels: 525.5927058823529\n",
      "Média Streamers: 16073.077960784314\n",
      "Média Avg_viewers: 5868.964705882353\n",
      "Média Avg_channels: 194.2658823529412\n",
      "Média Avg_viewer_ratio: 84.35739921568626\n"
     ]
    }
   ],
   "source": [
    "#Média\n",
    "print('Média Hours_watched:',np.mean(TwGames['Hours_watched']))\n",
    "print('Média Hours_Streamed:',np.mean(TwGames['Hours_Streamed']))\n",
    "print('Média Peak_viewers:',np.mean(TwGames['Peak_viewers']))\n",
    "print('Média Peak_channels:',np.mean(TwGames['Peak_channels']))\n",
    "print('Média Streamers:',np.mean(TwGames['Streamers']))\n",
    "print('Média Avg_viewers:',np.mean(TwGames['Avg_viewers']))\n",
    "print('Média Avg_channels:',np.mean(TwGames['Avg_channels']))\n",
    "print('Média Avg_viewer_ratio:',np.mean(TwGames['Avg_viewer_ratio']))\n"
   ]
  },
  {
   "cell_type": "markdown",
   "metadata": {},
   "source": [
    "### Mediana"
   ]
  },
  {
   "cell_type": "code",
   "execution_count": 22,
   "metadata": {
    "scrolled": true
   },
   "outputs": [
    {
     "name": "stdout",
     "output_type": "stream",
     "text": [
      "Mediana Hours_watched: 718087.0\n",
      "Mediana Hours_Streamed: 28237.0\n",
      "Mediana Peak_viewers: 18349.0\n",
      "Mediana Peak_channels: 109.0\n",
      "Mediana Streamers: 3767.5\n",
      "Mediana Avg_viewers: 981.5\n",
      "Mediana Avg_channels: 38.0\n",
      "Mediana Avg_viewer_ratio: 29.064999999999998\n"
     ]
    }
   ],
   "source": [
    "#Mediana\n",
    "print('Mediana Hours_watched:',np.median(TwGames['Hours_watched']))\n",
    "print('Mediana Hours_Streamed:',np.median(TwGames['Hours_Streamed']))\n",
    "print('Mediana Peak_viewers:',np.median(TwGames['Peak_viewers']))\n",
    "print('Mediana Peak_channels:',np.median(TwGames['Peak_channels']))\n",
    "print('Mediana Streamers:',np.median(TwGames['Streamers']))\n",
    "print('Mediana Avg_viewers:',np.median(TwGames['Avg_viewers']))\n",
    "print('Mediana Avg_channels:',np.median(TwGames['Avg_channels']))\n",
    "print('Mediana Avg_viewer_ratio:',np.median(TwGames['Avg_viewer_ratio']))"
   ]
  },
  {
   "cell_type": "markdown",
   "metadata": {},
   "source": [
    "### Moda"
   ]
  },
  {
   "cell_type": "code",
   "execution_count": 29,
   "metadata": {},
   "outputs": [
    {
     "data": {
      "text/html": [
       "<div>\n",
       "<style scoped>\n",
       "    .dataframe tbody tr th:only-of-type {\n",
       "        vertical-align: middle;\n",
       "    }\n",
       "\n",
       "    .dataframe tbody tr th {\n",
       "        vertical-align: top;\n",
       "    }\n",
       "\n",
       "    .dataframe thead th {\n",
       "        text-align: right;\n",
       "    }\n",
       "</style>\n",
       "<table border=\"1\" class=\"dataframe\">\n",
       "  <thead>\n",
       "    <tr style=\"text-align: right;\">\n",
       "      <th></th>\n",
       "      <th>Rank</th>\n",
       "      <th>Month</th>\n",
       "      <th>Year</th>\n",
       "      <th>Hours_watched</th>\n",
       "      <th>Hours_Streamed</th>\n",
       "      <th>Peak_viewers</th>\n",
       "      <th>Peak_channels</th>\n",
       "      <th>Streamers</th>\n",
       "      <th>Avg_viewers</th>\n",
       "      <th>Avg_channels</th>\n",
       "      <th>Avg_viewer_ratio</th>\n",
       "    </tr>\n",
       "  </thead>\n",
       "  <tbody>\n",
       "    <tr>\n",
       "      <th>0</th>\n",
       "      <td>1</td>\n",
       "      <td>2.0</td>\n",
       "      <td>2017.0</td>\n",
       "      <td>190807.0</td>\n",
       "      <td>743.0</td>\n",
       "      <td>6843.0</td>\n",
       "      <td>45.0</td>\n",
       "      <td>0.0</td>\n",
       "      <td>376.0</td>\n",
       "      <td>0.0</td>\n",
       "      <td>12.46</td>\n",
       "    </tr>\n",
       "    <tr>\n",
       "      <th>1</th>\n",
       "      <td>2</td>\n",
       "      <td>3.0</td>\n",
       "      <td>2018.0</td>\n",
       "      <td>299256.0</td>\n",
       "      <td>NaN</td>\n",
       "      <td>NaN</td>\n",
       "      <td>NaN</td>\n",
       "      <td>NaN</td>\n",
       "      <td>NaN</td>\n",
       "      <td>NaN</td>\n",
       "      <td>NaN</td>\n",
       "    </tr>\n",
       "    <tr>\n",
       "      <th>2</th>\n",
       "      <td>3</td>\n",
       "      <td>4.0</td>\n",
       "      <td>2019.0</td>\n",
       "      <td>NaN</td>\n",
       "      <td>NaN</td>\n",
       "      <td>NaN</td>\n",
       "      <td>NaN</td>\n",
       "      <td>NaN</td>\n",
       "      <td>NaN</td>\n",
       "      <td>NaN</td>\n",
       "      <td>NaN</td>\n",
       "    </tr>\n",
       "  </tbody>\n",
       "</table>\n",
       "</div>"
      ],
      "text/plain": [
       "   Rank  Month    Year  Hours_watched  Hours_Streamed  Peak_viewers  \\\n",
       "0     1    2.0  2017.0       190807.0           743.0        6843.0   \n",
       "1     2    3.0  2018.0       299256.0             NaN           NaN   \n",
       "2     3    4.0  2019.0            NaN             NaN           NaN   \n",
       "\n",
       "   Peak_channels  Streamers  Avg_viewers  Avg_channels  Avg_viewer_ratio  \n",
       "0           45.0        0.0        376.0           0.0             12.46  \n",
       "1            NaN        NaN          NaN           NaN               NaN  \n",
       "2            NaN        NaN          NaN           NaN               NaN  "
      ]
     },
     "execution_count": 29,
     "metadata": {},
     "output_type": "execute_result"
    }
   ],
   "source": [
    "#Moda\n",
    "TwGames.mode(numeric_only=True).head(3)"
   ]
  },
  {
   "cell_type": "markdown",
   "metadata": {},
   "source": [
    "### Desvio Padrão"
   ]
  },
  {
   "cell_type": "code",
   "execution_count": 27,
   "metadata": {
    "scrolled": true
   },
   "outputs": [
    {
     "name": "stdout",
     "output_type": "stream",
     "text": [
      "DesvioPadrão Hours_watched: 15067193.77031411\n",
      "DesvioPadrão Hours_Streamed: 524804.134263167\n",
      "DesvioPadrão Peak_viewers: 118279.4921832271\n",
      "DesvioPadrão Peak_channels: 2543.6123230312073\n",
      "DesvioPadrão Streamers: 53538.46819910619\n",
      "DesvioPadrão Avg_viewers: 20708.22727731159\n",
      "DesvioPadrão Avg_channels: 720.2360744056078\n",
      "DesvioPadrão Avg_viewer_ratio: 379.33689743668333\n"
     ]
    }
   ],
   "source": [
    "#Desvio Padrão\n",
    "print('DesvioPadrão Hours_watched:',mt.sqrt(np.var(TwGames['Hours_watched'])))\n",
    "print('DesvioPadrão Hours_Streamed:',mt.sqrt(np.var(TwGames['Hours_Streamed'])))\n",
    "print('DesvioPadrão Peak_viewers:',mt.sqrt(np.var(TwGames['Peak_viewers'])))\n",
    "print('DesvioPadrão Peak_channels:',mt.sqrt(np.var(TwGames['Peak_channels'])))\n",
    "print('DesvioPadrão Streamers:',mt.sqrt(np.var(TwGames['Streamers'])))\n",
    "print('DesvioPadrão Avg_viewers:',mt.sqrt(np.var(TwGames['Avg_viewers'])))\n",
    "print('DesvioPadrão Avg_channels:',mt.sqrt(np.var(TwGames['Avg_channels'])))\n",
    "print('DesvioPadrão Avg_viewer_ratio:',mt.sqrt(np.var(TwGames['Avg_viewer_ratio'])))"
   ]
  },
  {
   "cell_type": "markdown",
   "metadata": {},
   "source": [
    "### Boxplot Geral"
   ]
  },
  {
   "cell_type": "code",
   "execution_count": 47,
   "metadata": {},
   "outputs": [
    {
     "name": "stdout",
     "output_type": "stream",
     "text": [
      "Hours_watched: AxesSubplot(0.125,0.125;0.775x0.755)\n",
      "Hours_Streamed: AxesSubplot(0.125,0.125;0.775x0.755)\n",
      "Peak_viewers: AxesSubplot(0.125,0.125;0.775x0.755)\n",
      "Peak_channels: AxesSubplot(0.125,0.125;0.775x0.755)\n",
      "Streamers: AxesSubplot(0.125,0.125;0.775x0.755)\n",
      "Avg_viewers: AxesSubplot(0.125,0.125;0.775x0.755)\n",
      "Avg_channels: AxesSubplot(0.125,0.125;0.775x0.755)\n",
      "Avg_viewer_ratio: AxesSubplot(0.125,0.125;0.775x0.755)\n"
     ]
    },
    {
     "data": {
      "image/png": "[encoded data removed]",
      "text/plain": [
       "<Figure size 576x432 with 1 Axes>"
      ]
     },
     "metadata": {
      "needs_background": "light"
     },
     "output_type": "display_data"
    }
   ],
   "source": [
    "#Boxplot Geral\n",
    "plt.figure(figsize = (8,6))\n",
    "print(\"Hours_watched:\",TwGames.boxplot(column=\"Hours_watched\"))\n",
    "print(\"Hours_Streamed:\",TwGames.boxplot(column=\"Hours_Streamed\"))\n",
    "print(\"Peak_viewers:\",TwGames.boxplot(column=\"Peak_viewers\"))\n",
    "print(\"Peak_channels:\",TwGames.boxplot(column=\"Peak_channels\"))\n",
    "print(\"Streamers:\",TwGames.boxplot(column=\"Streamers\"))\n",
    "print(\"Avg_viewers:\",TwGames.boxplot(column=\"Avg_viewers\"))\n",
    "print(\"Avg_channels:\",TwGames.boxplot(column=\"Avg_channels\"))\n",
    "print(\"Avg_viewer_ratio:\",TwGames.boxplot(column=\"Avg_viewer_ratio\"))"
   ]
  },
  {
   "cell_type": "markdown",
   "metadata": {},
   "source": [
    "### Bloxplot"
   ]
  },
  {
   "cell_type": "code",
   "execution_count": 49,
   "metadata": {},
   "outputs": [
    {
     "name": "stdout",
     "output_type": "stream",
     "text": [
      "Hours_watched: AxesSubplot(0.125,0.125;0.775x0.755)\n"
     ]
    },
    {
     "data": {
      "image/png": "[encoded data removed]",
      "text/plain": [
       "<Figure size 576x432 with 1 Axes>"
      ]
     },
     "metadata": {
      "needs_background": "light"
     },
     "output_type": "display_data"
    }
   ],
   "source": [
    "plt.figure(figsize = (8,6))\n",
    "print(\"Hours_watched:\",TwGames.boxplot(column=\"Hours_watched\"))"
   ]
  },
  {
   "cell_type": "code",
   "execution_count": 30,
   "metadata": {},
   "outputs": [
    {
     "name": "stdout",
     "output_type": "stream",
     "text": [
      "Hours_Streamed: AxesSubplot(0.125,0.125;0.775x0.755)\n"
     ]
    },
    {
     "data": {
      "image/png": "[encoded data removed]",
      "text/plain": [
       "<Figure size 432x288 with 1 Axes>"
      ]
     },
     "metadata": {
      "needs_background": "light"
     },
     "output_type": "display_data"
    }
   ],
   "source": [
    "plt.figure(figsize = (8,6))\n",
    "print(\"Hours_Streamed:\",TwGames.boxplot(column=\"Hours_Streamed\"))"
   ]
  },
  {
   "cell_type": "code",
   "execution_count": 50,
   "metadata": {},
   "outputs": [
    {
     "name": "stdout",
     "output_type": "stream",
     "text": [
      "Peak_viewers: AxesSubplot(0.125,0.125;0.775x0.755)\n"
     ]
    },
    {
     "data": {
      "image/png": "[encoded data removed]",
      "text/plain": [
       "<Figure size 432x288 with 1 Axes>"
      ]
     },
     "metadata": {
      "needs_background": "light"
     },
     "output_type": "display_data"
    }
   ],
   "source": [
    "plt.figure(figsize = (8,6))\n",
    "print(\"Peak_viewers:\",TwGames.boxplot(column=\"Peak_viewers\"))"
   ]
  },
  {
   "cell_type": "code",
   "execution_count": 51,
   "metadata": {},
   "outputs": [
    {
     "name": "stdout",
     "output_type": "stream",
     "text": [
      "Peak_channels: AxesSubplot(0.125,0.125;0.775x0.755)\n"
     ]
    },
    {
     "data": {
      "image/png": "[encoded data removed]",
      "text/plain": [
       "<Figure size 432x288 with 1 Axes>"
      ]
     },
     "metadata": {
      "needs_background": "light"
     },
     "output_type": "display_data"
    }
   ],
   "source": [
    "plt.figure(figsize = (8,6))\n",
    "print(\"Peak_channels:\",TwGames.boxplot(column=\"Peak_channels\"))"
   ]
  },
  {
   "cell_type": "code",
   "execution_count": 33,
   "metadata": {},
   "outputs": [
    {
     "name": "stdout",
     "output_type": "stream",
     "text": [
      "Streamers: AxesSubplot(0.125,0.125;0.775x0.755)\n"
     ]
    },
    {
     "data": {
      "image/png": "[encoded data removed]",
      "text/plain": [
       "<Figure size 432x288 with 1 Axes>"
      ]
     },
     "metadata": {
      "needs_background": "light"
     },
     "output_type": "display_data"
    }
   ],
   "source": [
    "plt.figure(figsize = (8,6))\n",
    "print(\"Streamers:\",TwGames.boxplot(column=\"Streamers\"))"
   ]
  },
  {
   "cell_type": "code",
   "execution_count": 34,
   "metadata": {},
   "outputs": [
    {
     "name": "stdout",
     "output_type": "stream",
     "text": [
      "Avg_viewers: AxesSubplot(0.125,0.125;0.775x0.755)\n"
     ]
    },
    {
     "data": {
      "image/png": "[encoded data removed]",
      "text/plain": [
       "<Figure size 432x288 with 1 Axes>"
      ]
     },
     "metadata": {
      "needs_background": "light"
     },
     "output_type": "display_data"
    }
   ],
   "source": [
    "plt.figure(figsize = (8,6))\n",
    "print(\"Avg_viewers:\",TwGames.boxplot(column=\"Avg_viewers\"))"
   ]
  },
  {
   "cell_type": "code",
   "execution_count": 35,
   "metadata": {},
   "outputs": [
    {
     "name": "stdout",
     "output_type": "stream",
     "text": [
      "Avg_channels: AxesSubplot(0.125,0.125;0.775x0.755)\n"
     ]
    },
    {
     "data": {
      "image/png": "[encoded data removed]",
      "text/plain": [
       "<Figure size 432x288 with 1 Axes>"
      ]
     },
     "metadata": {
      "needs_background": "light"
     },
     "output_type": "display_data"
    }
   ],
   "source": [
    "plt.figure(figsize = (8,6))\n",
    "print(\"Avg_channels:\",TwGames.boxplot(column=\"Avg_channels\"))"
   ]
  },
  {
   "cell_type": "code",
   "execution_count": 36,
   "metadata": {},
   "outputs": [
    {
     "name": "stdout",
     "output_type": "stream",
     "text": [
      "Avg_viewer_ratio: AxesSubplot(0.125,0.125;0.775x0.755)\n"
     ]
    },
    {
     "data": {
      "image/png": "[encoded data removed]",
      "text/plain": [
       "<Figure size 432x288 with 1 Axes>"
      ]
     },
     "metadata": {
      "needs_background": "light"
     },
     "output_type": "display_data"
    }
   ],
   "source": [
    "plt.figure(figsize = (8,6))\n",
    "print(\"Avg_viewer_ratio:\",TwGames.boxplot(column=\"Avg_viewer_ratio\"))"
   ]
  }
 ],
 "metadata": {
  "kernelspec": {
   "display_name": "Python 3",
   "language": "python",
   "name": "python3"
  },
  "language_info": {
   "codemirror_mode": {
    "name": "ipython",
    "version": 3
   },
   "file_extension": ".py",
   "mimetype": "text/x-python",
   "name": "python",
   "nbconvert_exporter": "python",
   "pygments_lexer": "ipython3",
   "version": "3.8.3"
  }
 },
 "nbformat": 4,
 "nbformat_minor": 4
}
