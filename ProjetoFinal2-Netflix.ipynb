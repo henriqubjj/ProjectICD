{
 "cells": [
  {
   "cell_type": "code",
   "execution_count": 14,
   "metadata": {},
   "outputs": [],
   "source": [
    "import pandas as pd\n",
    "import numpy as np\n",
    "import math as mt\n",
    "import scipy as sp\n",
    "import matplotlib.pyplot as plt\n",
    "import seaborn as sns\n",
    "from sklearn.cluster import KMeans\n",
    "from scipy.stats import linregress\n",
    "netflix = pd.read_csv(\"netflix_titles.csv\")"
   ]
  },
  {
   "cell_type": "code",
   "execution_count": 15,
   "metadata": {
    "scrolled": true
   },
   "outputs": [
    {
     "data": {
      "text/plain": [
       "<AxesSubplot:xlabel='type', ylabel='count'>"
      ]
     },
     "execution_count": 15,
     "metadata": {},
     "output_type": "execute_result"
    },
    {
     "data": {
      "image/png": "[encoded data removed]",
      "text/plain": [
       "<Figure size 576x432 with 1 Axes>"
      ]
     },
     "metadata": {
      "needs_background": "light"
     },
     "output_type": "display_data"
    }
   ],
   "source": [
    "plt.figure(figsize = (8,6))\n",
    "sns.countplot(x=\"type\", data=netflix, palette=\"ch:s=.25,rot=-.25\")"
   ]
  },
  {
   "cell_type": "markdown",
   "metadata": {},
   "source": [
    "#### Retiramos o tipo filme e deixei so o tipo series, para  que nesta aba possamos trabalhar so com as series da netflix."
   ]
  },
  {
   "cell_type": "code",
   "execution_count": 16,
   "metadata": {
    "scrolled": true
   },
   "outputs": [
    {
     "data": {
      "text/html": [
       "<div>\n",
       "<style scoped>\n",
       "    .dataframe tbody tr th:only-of-type {\n",
       "        vertical-align: middle;\n",
       "    }\n",
       "\n",
       "    .dataframe tbody tr th {\n",
       "        vertical-align: top;\n",
       "    }\n",
       "\n",
       "    .dataframe thead th {\n",
       "        text-align: right;\n",
       "    }\n",
       "</style>\n",
       "<table border=\"1\" class=\"dataframe\">\n",
       "  <thead>\n",
       "    <tr style=\"text-align: right;\">\n",
       "      <th></th>\n",
       "      <th>show_id</th>\n",
       "      <th>type</th>\n",
       "      <th>title</th>\n",
       "      <th>director</th>\n",
       "      <th>cast</th>\n",
       "      <th>country</th>\n",
       "      <th>date_added</th>\n",
       "      <th>release_year</th>\n",
       "      <th>rating</th>\n",
       "      <th>duration</th>\n",
       "      <th>listed_in</th>\n",
       "      <th>description</th>\n",
       "    </tr>\n",
       "  </thead>\n",
       "  <tbody>\n",
       "    <tr>\n",
       "      <th>0</th>\n",
       "      <td>s1</td>\n",
       "      <td>TV Show</td>\n",
       "      <td>3%</td>\n",
       "      <td>NaN</td>\n",
       "      <td>João Miguel, Bianca Comparato, Michel Gomes, R...</td>\n",
       "      <td>Brazil</td>\n",
       "      <td>August 14, 2020</td>\n",
       "      <td>2020</td>\n",
       "      <td>TV-MA</td>\n",
       "      <td>4 Seasons</td>\n",
       "      <td>International TV Shows, TV Dramas, TV Sci-Fi &amp;...</td>\n",
       "      <td>In a future where the elite inhabit an island ...</td>\n",
       "    </tr>\n",
       "    <tr>\n",
       "      <th>5</th>\n",
       "      <td>s6</td>\n",
       "      <td>TV Show</td>\n",
       "      <td>46</td>\n",
       "      <td>Serdar Akar</td>\n",
       "      <td>Erdal Beşikçioğlu, Yasemin Allen, Melis Birkan...</td>\n",
       "      <td>Turkey</td>\n",
       "      <td>July 1, 2017</td>\n",
       "      <td>2016</td>\n",
       "      <td>TV-MA</td>\n",
       "      <td>1 Season</td>\n",
       "      <td>International TV Shows, TV Dramas, TV Mysteries</td>\n",
       "      <td>A genetics professor experiments with a treatm...</td>\n",
       "    </tr>\n",
       "    <tr>\n",
       "      <th>11</th>\n",
       "      <td>s12</td>\n",
       "      <td>TV Show</td>\n",
       "      <td>1983</td>\n",
       "      <td>NaN</td>\n",
       "      <td>Robert Więckiewicz, Maciej Musiał, Michalina O...</td>\n",
       "      <td>Poland, United States</td>\n",
       "      <td>November 30, 2018</td>\n",
       "      <td>2018</td>\n",
       "      <td>TV-MA</td>\n",
       "      <td>1 Season</td>\n",
       "      <td>Crime TV Shows, International TV Shows, TV Dramas</td>\n",
       "      <td>In this dark alt-history thriller, a naïve law...</td>\n",
       "    </tr>\n",
       "    <tr>\n",
       "      <th>12</th>\n",
       "      <td>s13</td>\n",
       "      <td>TV Show</td>\n",
       "      <td>1994</td>\n",
       "      <td>Diego Enrique Osorno</td>\n",
       "      <td>NaN</td>\n",
       "      <td>Mexico</td>\n",
       "      <td>May 17, 2019</td>\n",
       "      <td>2019</td>\n",
       "      <td>TV-MA</td>\n",
       "      <td>1 Season</td>\n",
       "      <td>Crime TV Shows, Docuseries, International TV S...</td>\n",
       "      <td>Archival video and new interviews examine Mexi...</td>\n",
       "    </tr>\n",
       "    <tr>\n",
       "      <th>16</th>\n",
       "      <td>s17</td>\n",
       "      <td>TV Show</td>\n",
       "      <td>Feb-09</td>\n",
       "      <td>NaN</td>\n",
       "      <td>Shahd El Yaseen, Shaila Sabt, Hala, Hanadi Al-...</td>\n",
       "      <td>NaN</td>\n",
       "      <td>March 20, 2019</td>\n",
       "      <td>2018</td>\n",
       "      <td>TV-14</td>\n",
       "      <td>1 Season</td>\n",
       "      <td>International TV Shows, TV Dramas</td>\n",
       "      <td>As a psychology professor faces Alzheimer's, h...</td>\n",
       "    </tr>\n",
       "    <tr>\n",
       "      <th>...</th>\n",
       "      <td>...</td>\n",
       "      <td>...</td>\n",
       "      <td>...</td>\n",
       "      <td>...</td>\n",
       "      <td>...</td>\n",
       "      <td>...</td>\n",
       "      <td>...</td>\n",
       "      <td>...</td>\n",
       "      <td>...</td>\n",
       "      <td>...</td>\n",
       "      <td>...</td>\n",
       "      <td>...</td>\n",
       "    </tr>\n",
       "    <tr>\n",
       "      <th>7767</th>\n",
       "      <td>s7768</td>\n",
       "      <td>TV Show</td>\n",
       "      <td>Zindagi Gulzar Hai</td>\n",
       "      <td>NaN</td>\n",
       "      <td>Sanam Saeed, Fawad Khan, Ayesha Omer, Mehreen ...</td>\n",
       "      <td>Pakistan</td>\n",
       "      <td>December 15, 2016</td>\n",
       "      <td>2012</td>\n",
       "      <td>TV-PG</td>\n",
       "      <td>1 Season</td>\n",
       "      <td>International TV Shows, Romantic TV Shows, TV ...</td>\n",
       "      <td>Strong-willed, middle-class Kashaf and carefre...</td>\n",
       "    </tr>\n",
       "    <tr>\n",
       "      <th>7775</th>\n",
       "      <td>s7776</td>\n",
       "      <td>TV Show</td>\n",
       "      <td>Zoids Wild</td>\n",
       "      <td>NaN</td>\n",
       "      <td>Kensho Ono, Takahiro Sakurai, Mikako Komatsu, ...</td>\n",
       "      <td>Japan</td>\n",
       "      <td>August 14, 2020</td>\n",
       "      <td>2018</td>\n",
       "      <td>TV-Y7</td>\n",
       "      <td>1 Season</td>\n",
       "      <td>Anime Series, Kids' TV</td>\n",
       "      <td>A quest for freedom and legendary treasure beg...</td>\n",
       "    </tr>\n",
       "    <tr>\n",
       "      <th>7777</th>\n",
       "      <td>s7778</td>\n",
       "      <td>TV Show</td>\n",
       "      <td>Zombie Dumb</td>\n",
       "      <td>NaN</td>\n",
       "      <td>NaN</td>\n",
       "      <td>NaN</td>\n",
       "      <td>July 1, 2019</td>\n",
       "      <td>2018</td>\n",
       "      <td>TV-Y7</td>\n",
       "      <td>2 Seasons</td>\n",
       "      <td>Kids' TV, Korean TV Shows, TV Comedies</td>\n",
       "      <td>While living alone in a spooky town, a young g...</td>\n",
       "    </tr>\n",
       "    <tr>\n",
       "      <th>7779</th>\n",
       "      <td>s7780</td>\n",
       "      <td>TV Show</td>\n",
       "      <td>Zona Rosa</td>\n",
       "      <td>NaN</td>\n",
       "      <td>Manu NNa, Ana Julia Yeyé, Ray Contreras, Pablo...</td>\n",
       "      <td>Mexico</td>\n",
       "      <td>November 26, 2019</td>\n",
       "      <td>2019</td>\n",
       "      <td>TV-MA</td>\n",
       "      <td>1 Season</td>\n",
       "      <td>International TV Shows, Spanish-Language TV Sh...</td>\n",
       "      <td>An assortment of talent takes the stage for a ...</td>\n",
       "    </tr>\n",
       "    <tr>\n",
       "      <th>7785</th>\n",
       "      <td>s7786</td>\n",
       "      <td>TV Show</td>\n",
       "      <td>Zumbo's Just Desserts</td>\n",
       "      <td>NaN</td>\n",
       "      <td>Adriano Zumbo, Rachel Khoo</td>\n",
       "      <td>Australia</td>\n",
       "      <td>October 31, 2020</td>\n",
       "      <td>2019</td>\n",
       "      <td>TV-PG</td>\n",
       "      <td>1 Season</td>\n",
       "      <td>International TV Shows, Reality TV</td>\n",
       "      <td>Dessert wizard Adriano Zumbo looks for the nex...</td>\n",
       "    </tr>\n",
       "  </tbody>\n",
       "</table>\n",
       "<p>2410 rows × 12 columns</p>\n",
       "</div>"
      ],
      "text/plain": [
       "     show_id     type                  title              director  \\\n",
       "0         s1  TV Show                     3%                   NaN   \n",
       "5         s6  TV Show                     46           Serdar Akar   \n",
       "11       s12  TV Show                   1983                   NaN   \n",
       "12       s13  TV Show                   1994  Diego Enrique Osorno   \n",
       "16       s17  TV Show                 Feb-09                   NaN   \n",
       "...      ...      ...                    ...                   ...   \n",
       "7767   s7768  TV Show     Zindagi Gulzar Hai                   NaN   \n",
       "7775   s7776  TV Show             Zoids Wild                   NaN   \n",
       "7777   s7778  TV Show            Zombie Dumb                   NaN   \n",
       "7779   s7780  TV Show              Zona Rosa                   NaN   \n",
       "7785   s7786  TV Show  Zumbo's Just Desserts                   NaN   \n",
       "\n",
       "                                                   cast  \\\n",
       "0     João Miguel, Bianca Comparato, Michel Gomes, R...   \n",
       "5     Erdal Beşikçioğlu, Yasemin Allen, Melis Birkan...   \n",
       "11    Robert Więckiewicz, Maciej Musiał, Michalina O...   \n",
       "12                                                  NaN   \n",
       "16    Shahd El Yaseen, Shaila Sabt, Hala, Hanadi Al-...   \n",
       "...                                                 ...   \n",
       "7767  Sanam Saeed, Fawad Khan, Ayesha Omer, Mehreen ...   \n",
       "7775  Kensho Ono, Takahiro Sakurai, Mikako Komatsu, ...   \n",
       "7777                                                NaN   \n",
       "7779  Manu NNa, Ana Julia Yeyé, Ray Contreras, Pablo...   \n",
       "7785                         Adriano Zumbo, Rachel Khoo   \n",
       "\n",
       "                    country         date_added  release_year rating  \\\n",
       "0                    Brazil    August 14, 2020          2020  TV-MA   \n",
       "5                    Turkey       July 1, 2017          2016  TV-MA   \n",
       "11    Poland, United States  November 30, 2018          2018  TV-MA   \n",
       "12                   Mexico       May 17, 2019          2019  TV-MA   \n",
       "16                      NaN     March 20, 2019          2018  TV-14   \n",
       "...                     ...                ...           ...    ...   \n",
       "7767               Pakistan  December 15, 2016          2012  TV-PG   \n",
       "7775                  Japan    August 14, 2020          2018  TV-Y7   \n",
       "7777                    NaN       July 1, 2019          2018  TV-Y7   \n",
       "7779                 Mexico  November 26, 2019          2019  TV-MA   \n",
       "7785              Australia   October 31, 2020          2019  TV-PG   \n",
       "\n",
       "       duration                                          listed_in  \\\n",
       "0     4 Seasons  International TV Shows, TV Dramas, TV Sci-Fi &...   \n",
       "5      1 Season    International TV Shows, TV Dramas, TV Mysteries   \n",
       "11     1 Season  Crime TV Shows, International TV Shows, TV Dramas   \n",
       "12     1 Season  Crime TV Shows, Docuseries, International TV S...   \n",
       "16     1 Season                  International TV Shows, TV Dramas   \n",
       "...         ...                                                ...   \n",
       "7767   1 Season  International TV Shows, Romantic TV Shows, TV ...   \n",
       "7775   1 Season                             Anime Series, Kids' TV   \n",
       "7777  2 Seasons             Kids' TV, Korean TV Shows, TV Comedies   \n",
       "7779   1 Season  International TV Shows, Spanish-Language TV Sh...   \n",
       "7785   1 Season                 International TV Shows, Reality TV   \n",
       "\n",
       "                                            description  \n",
       "0     In a future where the elite inhabit an island ...  \n",
       "5     A genetics professor experiments with a treatm...  \n",
       "11    In this dark alt-history thriller, a naïve law...  \n",
       "12    Archival video and new interviews examine Mexi...  \n",
       "16    As a psychology professor faces Alzheimer's, h...  \n",
       "...                                                 ...  \n",
       "7767  Strong-willed, middle-class Kashaf and carefre...  \n",
       "7775  A quest for freedom and legendary treasure beg...  \n",
       "7777  While living alone in a spooky town, a young g...  \n",
       "7779  An assortment of talent takes the stage for a ...  \n",
       "7785  Dessert wizard Adriano Zumbo looks for the nex...  \n",
       "\n",
       "[2410 rows x 12 columns]"
      ]
     },
     "execution_count": 16,
     "metadata": {},
     "output_type": "execute_result"
    }
   ],
   "source": [
    "netflix_series = netflix.loc[netflix[\"type\"] == \"TV Show\"]\n",
    "netflix_series"
   ]
  },
  {
   "cell_type": "markdown",
   "metadata": {},
   "source": [
    "#### Representação do ano de lançamento de series, que estão presentes no catalogo da netflix"
   ]
  },
  {
   "cell_type": "code",
   "execution_count": 17,
   "metadata": {
    "scrolled": true
   },
   "outputs": [
    {
     "name": "stdout",
     "output_type": "stream",
     "text": [
      "[1925, 1946, 1963, 1967, 1968, 1972, 1974, 1977, 1979, 1981, 1985, 1986, 1988, 1989, 1990, 1991, 1992, 1993, 1994, 1995, 1996, 1997, 1998, 1999, 2000, 2001, 2002, 2003, 2004, 2005, 2006, 2007, 2008, 2009, 2010, 2011, 2012, 2013, 2014, 2015, 2016, 2017, 2018, 2019, 2020, 2021]\n"
     ]
    }
   ],
   "source": [
    "print(list(set(netflix_series.release_year)))"
   ]
  },
  {
   "cell_type": "code",
   "execution_count": 18,
   "metadata": {
    "scrolled": true
   },
   "outputs": [
    {
     "data": {
      "text/plain": [
       "release_year\n",
       "1925      1\n",
       "1946      1\n",
       "1963      1\n",
       "1967      1\n",
       "1968      1\n",
       "1972      1\n",
       "1974      1\n",
       "1977      1\n",
       "1979      1\n",
       "1981      1\n",
       "1985      1\n",
       "1986      2\n",
       "1988      2\n",
       "1989      1\n",
       "1990      3\n",
       "1991      1\n",
       "1992      2\n",
       "1993      4\n",
       "1994      1\n",
       "1995      2\n",
       "1996      3\n",
       "1997      4\n",
       "1998      4\n",
       "1999      7\n",
       "2000      4\n",
       "2001      4\n",
       "2002      6\n",
       "2003      9\n",
       "2004      9\n",
       "2005     12\n",
       "2006     13\n",
       "2007     13\n",
       "2008     23\n",
       "2009     34\n",
       "2010     37\n",
       "2011     39\n",
       "2012     61\n",
       "2013     65\n",
       "2014     90\n",
       "2015    159\n",
       "2016    240\n",
       "2017    268\n",
       "2018    387\n",
       "2019    414\n",
       "2020    457\n",
       "2021     19\n",
       "dtype: int64"
      ]
     },
     "execution_count": 18,
     "metadata": {},
     "output_type": "execute_result"
    }
   ],
   "source": [
    "x = pd.DataFrame(netflix_series, columns= [\"release_year\"])\n",
    "date_series = x.pivot_table(index=[\"release_year\"], aggfunc='size')\n",
    "date_series"
   ]
  },
  {
   "cell_type": "code",
   "execution_count": 19,
   "metadata": {
    "scrolled": false
   },
   "outputs": [
    {
     "data": {
      "text/plain": [
       "<seaborn.axisgrid.FacetGrid at 0x137d2202220>"
      ]
     },
     "execution_count": 19,
     "metadata": {},
     "output_type": "execute_result"
    },
    {
     "data": {
      "image/png": "[encoded data removed]",
      "text/plain": [
       "<Figure size 360x360 with 1 Axes>"
      ]
     },
     "metadata": {
      "needs_background": "light"
     },
     "output_type": "display_data"
    }
   ],
   "source": [
    "sns.displot(netflix_series, x=\"release_year\",binwidth=1)"
   ]
  },
  {
   "cell_type": "markdown",
   "metadata": {},
   "source": [
    "#### Limpamos a coluna date_added para pegar so o ano, para que com isso nos pudéssemos fazer uma representação de quantas series foram adicionadas na netflix em determinado ano."
   ]
  },
  {
   "cell_type": "code",
   "execution_count": 20,
   "metadata": {
    "scrolled": false
   },
   "outputs": [
    {
     "name": "stderr",
     "output_type": "stream",
     "text": [
      "<ipython-input-20-783b0edca2ba>:3: SettingWithCopyWarning: \n",
      "A value is trying to be set on a copy of a slice from a DataFrame.\n",
      "Try using .loc[row_indexer,col_indexer] = value instead\n",
      "\n",
      "See the caveats in the documentation: https://pandas.pydata.org/pandas-docs/stable/user_guide/indexing.html#returning-a-view-versus-a-copy\n",
      "  netflix_seriess[\"date_added\"] = pd.to_datetime(non_tbd_dates)\n",
      "<ipython-input-20-783b0edca2ba>:4: SettingWithCopyWarning: \n",
      "A value is trying to be set on a copy of a slice from a DataFrame.\n",
      "Try using .loc[row_indexer,col_indexer] = value instead\n",
      "\n",
      "See the caveats in the documentation: https://pandas.pydata.org/pandas-docs/stable/user_guide/indexing.html#returning-a-view-versus-a-copy\n",
      "  netflix_seriess[\"date_added\"] = netflix_seriess[\"date_added\"].dt.year\n"
     ]
    },
    {
     "data": {
      "text/plain": [
       "date_added\n",
       "2008.0      1\n",
       "2013.0      5\n",
       "2014.0      6\n",
       "2015.0     30\n",
       "2016.0    185\n",
       "2017.0    361\n",
       "2018.0    430\n",
       "2019.0    656\n",
       "2020.0    697\n",
       "2021.0     29\n",
       "dtype: int64"
      ]
     },
     "execution_count": 20,
     "metadata": {},
     "output_type": "execute_result"
    }
   ],
   "source": [
    "non_tbd_dates = netflix_series[\"date_added\"][netflix_series[\"date_added\"] != \"NAN\"]\n",
    "netflix_seriess = netflix_series\n",
    "netflix_seriess[\"date_added\"] = pd.to_datetime(non_tbd_dates)\n",
    "netflix_seriess[\"date_added\"] = netflix_seriess[\"date_added\"].dt.year\n",
    "x = pd.DataFrame(netflix_seriess, columns= [\"date_added\"])\n",
    "date_added_series = x.pivot_table(index=[\"date_added\"], aggfunc='size')\n",
    "date_added_series"
   ]
  },
  {
   "cell_type": "code",
   "execution_count": 23,
   "metadata": {
    "scrolled": true
   },
   "outputs": [
    {
     "data": {
      "text/plain": [
       "<AxesSubplot:xlabel='date_added'>"
      ]
     },
     "execution_count": 23,
     "metadata": {},
     "output_type": "execute_result"
    },
    {
     "data": {
      "image/png": "[encoded data removed]",
      "text/plain": [
       "<Figure size 1008x720 with 1 Axes>"
      ]
     },
     "metadata": {
      "needs_background": "light"
     },
     "output_type": "display_data"
    }
   ],
   "source": [
    "plt.figure(figsize = (14,10))\n",
    "sns.lineplot(data = date_added_series,  x = \"date_added\" , y= date_added_series , marker=\"o\")"
   ]
  },
  {
   "cell_type": "code",
   "execution_count": 179,
   "metadata": {
    "scrolled": false
   },
   "outputs": [
    {
     "data": {
      "text/plain": [
       "<seaborn.axisgrid.FacetGrid at 0x219f358c760>"
      ]
     },
     "execution_count": 179,
     "metadata": {},
     "output_type": "execute_result"
    },
    {
     "data": {
      "image/png": "[encoded data removed]",
      "text/plain": [
       "<Figure size 360x360 with 1 Axes>"
      ]
     },
     "metadata": {
      "needs_background": "light"
     },
     "output_type": "display_data"
    }
   ],
   "source": [
    "sns.displot(netflix_seriess, x=\"date_added\",binwidth = 0.5)"
   ]
  },
  {
   "cell_type": "markdown",
   "metadata": {},
   "source": [
    "# Pergunta:\n",
    "## Qual o gênero de serie mais predominante no catálogo da netflix?"
   ]
  },
  {
   "cell_type": "code",
   "execution_count": 184,
   "metadata": {
    "scrolled": false
   },
   "outputs": [
    {
     "data": {
      "text/plain": [
       "[\"Kids' TV\",\n",
       " 'International TV Shows, TV Dramas',\n",
       " 'Crime TV Shows, International TV Shows, TV Dramas',\n",
       " \"Kids' TV, TV Comedies\",\n",
       " 'International TV Shows, Romantic TV Shows, TV Dramas']"
      ]
     },
     "execution_count": 184,
     "metadata": {},
     "output_type": "execute_result"
    }
   ],
   "source": [
    "netflix_series[\"listed_in\"].value_counts()[:5].index.tolist()"
   ]
  },
  {
   "cell_type": "code",
   "execution_count": 186,
   "metadata": {
    "scrolled": false
   },
   "outputs": [
    {
     "data": {
      "text/plain": [
       "listed_in\n",
       "Anime Series                                             8\n",
       "Anime Series, Crime TV Shows                             3\n",
       "Anime Series, Crime TV Shows, International TV Shows     9\n",
       "Anime Series, Crime TV Shows, TV Thrillers               1\n",
       "Anime Series, International TV Shows                    75\n",
       "                                                        ..\n",
       "TV Horror, TV Mysteries, TV Thrillers                    4\n",
       "TV Horror, TV Mysteries, Teen TV Shows                   1\n",
       "TV Horror, Teen TV Shows                                 1\n",
       "TV Sci-Fi & Fantasy, TV Thrillers                        1\n",
       "TV Shows                                                12\n",
       "Length: 227, dtype: int64"
      ]
     },
     "execution_count": 186,
     "metadata": {},
     "output_type": "execute_result"
    }
   ],
   "source": [
    "x = pd.DataFrame(netflix_series, columns= [\"listed_in\"])\n",
    "generos = x.pivot_table(index=[\"listed_in\"], aggfunc='size')\n",
    "generos"
   ]
  },
  {
   "cell_type": "code",
   "execution_count": 187,
   "metadata": {
    "scrolled": false
   },
   "outputs": [
    {
     "data": {
      "text/plain": [
       "listed_in\n",
       "Kids' TV                                                  205\n",
       "International TV Shows, TV Dramas                         111\n",
       "Crime TV Shows, International TV Shows, TV Dramas         106\n",
       "Kids' TV, TV Comedies                                      90\n",
       "International TV Shows, Romantic TV Shows, TV Dramas       86\n",
       "                                                         ... \n",
       "Crime TV Shows, TV Horror, TV Mysteries                     1\n",
       "Docuseries, Kids' TV, Science & Nature TV                   1\n",
       "Docuseries, Reality TV, Teen TV Shows                       1\n",
       "Docuseries, Science & Nature TV, TV Action & Adventure      1\n",
       "International TV Shows, Korean TV Shows, TV Horror          1\n",
       "Length: 227, dtype: int64"
      ]
     },
     "execution_count": 187,
     "metadata": {},
     "output_type": "execute_result"
    }
   ],
   "source": [
    "generos.sort_values(ascending = False)"
   ]
  },
  {
   "cell_type": "markdown",
   "metadata": {},
   "source": [
    "#### Representação de quantas series um unico diretor produzio"
   ]
  },
  {
   "cell_type": "code",
   "execution_count": 188,
   "metadata": {
    "scrolled": true
   },
   "outputs": [
    {
     "data": {
      "text/plain": [
       "director\n",
       "Adrien Lagier, Ousmane Ly               1\n",
       "Ah Loong                                1\n",
       "Ahmet Katıksız                          1\n",
       "Alastair Fothergill                     3\n",
       "Alejandro Hartmann                      1\n",
       "                                       ..\n",
       "Vijay S. Bhanushali                     1\n",
       "Vikramaditya Motwane, Anurag Kashyap    1\n",
       "Wouter Bouvijn                          1\n",
       "Yasuhiro Irie                           1\n",
       "Ziad Doueiri                            1\n",
       "Length: 177, dtype: int64"
      ]
     },
     "execution_count": 188,
     "metadata": {},
     "output_type": "execute_result"
    }
   ],
   "source": [
    "x = pd.DataFrame(netflix_series, columns= [\"director\"])\n",
    "top_directors = x.pivot_table(index=[\"director\"], aggfunc='size')\n",
    "top_directors"
   ]
  },
  {
   "cell_type": "code",
   "execution_count": 189,
   "metadata": {},
   "outputs": [
    {
     "data": {
      "text/plain": [
       "director\n",
       "Alastair Fothergill          3\n",
       "Ken Burns                    2\n",
       "Rob Seidenglanz              2\n",
       "Iginio Straffi               2\n",
       "Shin Won-ho                  2\n",
       "                            ..\n",
       "Miguel Conde                 1\n",
       "Mick Grogan                  1\n",
       "Michel Tikhomiroff           1\n",
       "Michael Simon                1\n",
       "Adrien Lagier, Ousmane Ly    1\n",
       "Length: 177, dtype: int64"
      ]
     },
     "execution_count": 189,
     "metadata": {},
     "output_type": "execute_result"
    }
   ],
   "source": [
    "top_directors.sort_values(ascending = False)"
   ]
  },
  {
   "cell_type": "markdown",
   "metadata": {},
   "source": [
    "### Top 3 diretores q mais produziram series, presentes no catalogo da netflix"
   ]
  },
  {
   "cell_type": "code",
   "execution_count": 191,
   "metadata": {
    "scrolled": false
   },
   "outputs": [
    {
     "data": {
      "text/plain": [
       "['Alastair Fothergill', 'Stan Lathan', 'Rob Seidenglanz']"
      ]
     },
     "execution_count": 191,
     "metadata": {},
     "output_type": "execute_result"
    }
   ],
   "source": [
    "netflix_series[\"director\"].value_counts()[:3].index.tolist()"
   ]
  },
  {
   "cell_type": "markdown",
   "metadata": {},
   "source": [
    "### Representação de paises que tiveram produções de series."
   ]
  },
  {
   "cell_type": "code",
   "execution_count": 192,
   "metadata": {},
   "outputs": [
    {
     "data": {
      "text/plain": [
       "country\n",
       "Argentina                                   16\n",
       "Argentina, Spain                             1\n",
       "Argentina, United States, Mexico             1\n",
       "Australia                                   46\n",
       "Australia, Canada                            1\n",
       "                                            ..\n",
       "United States, South Korea, China            2\n",
       "United States, Sweden                        1\n",
       "United States, United Kingdom                7\n",
       "United States, United Kingdom, Australia     1\n",
       "Uruguay, Germany                             1\n",
       "Length: 183, dtype: int64"
      ]
     },
     "execution_count": 192,
     "metadata": {},
     "output_type": "execute_result"
    }
   ],
   "source": [
    "x = pd.DataFrame(netflix_series, columns= [\"country\"])\n",
    "top_country = x.pivot_table(index=[\"country\"], aggfunc='size')\n",
    "top_country"
   ]
  },
  {
   "cell_type": "code",
   "execution_count": 193,
   "metadata": {},
   "outputs": [
    {
     "data": {
      "text/plain": [
       "country\n",
       "United States              705\n",
       "United Kingdom             204\n",
       "Japan                      157\n",
       "South Korea                147\n",
       "India                       71\n",
       "                          ... \n",
       "Norway, Denmark              1\n",
       "Norway, Germany, Sweden      1\n",
       "Norway, Sweden               1\n",
       "Norway, United States        1\n",
       "Uruguay, Germany             1\n",
       "Length: 183, dtype: int64"
      ]
     },
     "execution_count": 193,
     "metadata": {},
     "output_type": "execute_result"
    }
   ],
   "source": [
    "top_country.sort_values(ascending = False)"
   ]
  },
  {
   "cell_type": "code",
   "execution_count": 194,
   "metadata": {},
   "outputs": [
    {
     "data": {
      "text/plain": [
       "['United States', 'United Kingdom', 'Japan']"
      ]
     },
     "execution_count": 194,
     "metadata": {},
     "output_type": "execute_result"
    }
   ],
   "source": [
    "netflix_series[\"country\"].value_counts()[:3].index.tolist()"
   ]
  },
  {
   "cell_type": "markdown",
   "metadata": {},
   "source": [
    "### Representação de temporadas das series."
   ]
  },
  {
   "cell_type": "code",
   "execution_count": 25,
   "metadata": {
    "scrolled": true
   },
   "outputs": [
    {
     "data": {
      "text/plain": [
       "duration\n",
       "1 Season      1608\n",
       "2 Seasons      382\n",
       "3 Seasons      184\n",
       "4 Seasons       87\n",
       "5 Seasons       58\n",
       "6 Seasons       30\n",
       "7 Seasons       19\n",
       "8 Seasons       18\n",
       "9 Seasons        8\n",
       "10 Seasons       6\n",
       "11 Seasons       3\n",
       "15 Seasons       2\n",
       "13 Seasons       2\n",
       "12 Seasons       2\n",
       "16 Seasons       1\n",
       "dtype: int64"
      ]
     },
     "execution_count": 25,
     "metadata": {},
     "output_type": "execute_result"
    }
   ],
   "source": [
    "x = pd.DataFrame(netflix_series, columns= [\"title\",\"duration\"])\n",
    "directors_and_country = x.pivot_table(index=[\"duration\"], aggfunc='size')\n",
    "directors_and_country.sort_values(ascending = False)"
   ]
  },
  {
   "cell_type": "markdown",
   "metadata": {},
   "source": [
    "#### Nos queriamos fazer um grafico que representasse a duração mais predominante entre as series, mas tivemos um problema igual no do filme, que a coluna duration apresentava a palavra season do lado da quantidade de temporadas que cada serie possuia, então tivemos que remover ela. "
   ]
  },
  {
   "cell_type": "code",
   "execution_count": 32,
   "metadata": {
    "scrolled": true
   },
   "outputs": [
    {
     "name": "stderr",
     "output_type": "stream",
     "text": [
      "<ipython-input-32-5e957f4a786a>:1: SettingWithCopyWarning: \n",
      "A value is trying to be set on a copy of a slice from a DataFrame.\n",
      "Try using .loc[row_indexer,col_indexer] = value instead\n",
      "\n",
      "See the caveats in the documentation: https://pandas.pydata.org/pandas-docs/stable/user_guide/indexing.html#returning-a-view-versus-a-copy\n",
      "  netflix_series[\"duration\"]=netflix_series[\"duration\"].str.replace(' Season','')\n"
     ]
    },
    {
     "ename": "ValueError",
     "evalue": "invalid literal for int() with base 10: '4s'",
     "output_type": "error",
     "traceback": [
      "\u001b[1;31m---------------------------------------------------------------------------\u001b[0m",
      "\u001b[1;31mValueError\u001b[0m                                Traceback (most recent call last)",
      "\u001b[1;32m<ipython-input-32-5e957f4a786a>\u001b[0m in \u001b[0;36m<module>\u001b[1;34m\u001b[0m\n\u001b[0;32m      1\u001b[0m \u001b[0mnetflix_series\u001b[0m\u001b[1;33m[\u001b[0m\u001b[1;34m\"duration\"\u001b[0m\u001b[1;33m]\u001b[0m\u001b[1;33m=\u001b[0m\u001b[0mnetflix_series\u001b[0m\u001b[1;33m[\u001b[0m\u001b[1;34m\"duration\"\u001b[0m\u001b[1;33m]\u001b[0m\u001b[1;33m.\u001b[0m\u001b[0mstr\u001b[0m\u001b[1;33m.\u001b[0m\u001b[0mreplace\u001b[0m\u001b[1;33m(\u001b[0m\u001b[1;34m' Season'\u001b[0m\u001b[1;33m,\u001b[0m\u001b[1;34m''\u001b[0m\u001b[1;33m)\u001b[0m\u001b[1;33m\u001b[0m\u001b[1;33m\u001b[0m\u001b[0m\n\u001b[1;32m----> 2\u001b[1;33m \u001b[0mnetflix_series\u001b[0m\u001b[1;33m[\u001b[0m\u001b[1;34m\"duration\"\u001b[0m\u001b[1;33m]\u001b[0m\u001b[1;33m=\u001b[0m\u001b[0mnetflix_series\u001b[0m\u001b[1;33m[\u001b[0m\u001b[1;34m\"duration\"\u001b[0m\u001b[1;33m]\u001b[0m\u001b[1;33m.\u001b[0m\u001b[0mastype\u001b[0m\u001b[1;33m(\u001b[0m\u001b[0mstr\u001b[0m\u001b[1;33m)\u001b[0m\u001b[1;33m.\u001b[0m\u001b[0mastype\u001b[0m\u001b[1;33m(\u001b[0m\u001b[0mint\u001b[0m\u001b[1;33m)\u001b[0m\u001b[1;33m\u001b[0m\u001b[1;33m\u001b[0m\u001b[0m\n\u001b[0m",
      "\u001b[1;32m~\\anaconda3\\lib\\site-packages\\pandas\\core\\generic.py\u001b[0m in \u001b[0;36mastype\u001b[1;34m(self, dtype, copy, errors)\u001b[0m\n\u001b[0;32m   5544\u001b[0m         \u001b[1;32melse\u001b[0m\u001b[1;33m:\u001b[0m\u001b[1;33m\u001b[0m\u001b[1;33m\u001b[0m\u001b[0m\n\u001b[0;32m   5545\u001b[0m             \u001b[1;31m# else, only a single dtype is given\u001b[0m\u001b[1;33m\u001b[0m\u001b[1;33m\u001b[0m\u001b[1;33m\u001b[0m\u001b[0m\n\u001b[1;32m-> 5546\u001b[1;33m             \u001b[0mnew_data\u001b[0m \u001b[1;33m=\u001b[0m \u001b[0mself\u001b[0m\u001b[1;33m.\u001b[0m\u001b[0m_mgr\u001b[0m\u001b[1;33m.\u001b[0m\u001b[0mastype\u001b[0m\u001b[1;33m(\u001b[0m\u001b[0mdtype\u001b[0m\u001b[1;33m=\u001b[0m\u001b[0mdtype\u001b[0m\u001b[1;33m,\u001b[0m \u001b[0mcopy\u001b[0m\u001b[1;33m=\u001b[0m\u001b[0mcopy\u001b[0m\u001b[1;33m,\u001b[0m \u001b[0merrors\u001b[0m\u001b[1;33m=\u001b[0m\u001b[0merrors\u001b[0m\u001b[1;33m,\u001b[0m\u001b[1;33m)\u001b[0m\u001b[1;33m\u001b[0m\u001b[1;33m\u001b[0m\u001b[0m\n\u001b[0m\u001b[0;32m   5547\u001b[0m             \u001b[1;32mreturn\u001b[0m \u001b[0mself\u001b[0m\u001b[1;33m.\u001b[0m\u001b[0m_constructor\u001b[0m\u001b[1;33m(\u001b[0m\u001b[0mnew_data\u001b[0m\u001b[1;33m)\u001b[0m\u001b[1;33m.\u001b[0m\u001b[0m__finalize__\u001b[0m\u001b[1;33m(\u001b[0m\u001b[0mself\u001b[0m\u001b[1;33m,\u001b[0m \u001b[0mmethod\u001b[0m\u001b[1;33m=\u001b[0m\u001b[1;34m\"astype\"\u001b[0m\u001b[1;33m)\u001b[0m\u001b[1;33m\u001b[0m\u001b[1;33m\u001b[0m\u001b[0m\n\u001b[0;32m   5548\u001b[0m \u001b[1;33m\u001b[0m\u001b[0m\n",
      "\u001b[1;32m~\\anaconda3\\lib\\site-packages\\pandas\\core\\internals\\managers.py\u001b[0m in \u001b[0;36mastype\u001b[1;34m(self, dtype, copy, errors)\u001b[0m\n\u001b[0;32m    593\u001b[0m         \u001b[0mself\u001b[0m\u001b[1;33m,\u001b[0m \u001b[0mdtype\u001b[0m\u001b[1;33m,\u001b[0m \u001b[0mcopy\u001b[0m\u001b[1;33m:\u001b[0m \u001b[0mbool\u001b[0m \u001b[1;33m=\u001b[0m \u001b[1;32mFalse\u001b[0m\u001b[1;33m,\u001b[0m \u001b[0merrors\u001b[0m\u001b[1;33m:\u001b[0m \u001b[0mstr\u001b[0m \u001b[1;33m=\u001b[0m \u001b[1;34m\"raise\"\u001b[0m\u001b[1;33m\u001b[0m\u001b[1;33m\u001b[0m\u001b[0m\n\u001b[0;32m    594\u001b[0m     ) -> \"BlockManager\":\n\u001b[1;32m--> 595\u001b[1;33m         \u001b[1;32mreturn\u001b[0m \u001b[0mself\u001b[0m\u001b[1;33m.\u001b[0m\u001b[0mapply\u001b[0m\u001b[1;33m(\u001b[0m\u001b[1;34m\"astype\"\u001b[0m\u001b[1;33m,\u001b[0m \u001b[0mdtype\u001b[0m\u001b[1;33m=\u001b[0m\u001b[0mdtype\u001b[0m\u001b[1;33m,\u001b[0m \u001b[0mcopy\u001b[0m\u001b[1;33m=\u001b[0m\u001b[0mcopy\u001b[0m\u001b[1;33m,\u001b[0m \u001b[0merrors\u001b[0m\u001b[1;33m=\u001b[0m\u001b[0merrors\u001b[0m\u001b[1;33m)\u001b[0m\u001b[1;33m\u001b[0m\u001b[1;33m\u001b[0m\u001b[0m\n\u001b[0m\u001b[0;32m    596\u001b[0m \u001b[1;33m\u001b[0m\u001b[0m\n\u001b[0;32m    597\u001b[0m     def convert(\n",
      "\u001b[1;32m~\\anaconda3\\lib\\site-packages\\pandas\\core\\internals\\managers.py\u001b[0m in \u001b[0;36mapply\u001b[1;34m(self, f, align_keys, **kwargs)\u001b[0m\n\u001b[0;32m    404\u001b[0m                 \u001b[0mapplied\u001b[0m \u001b[1;33m=\u001b[0m \u001b[0mb\u001b[0m\u001b[1;33m.\u001b[0m\u001b[0mapply\u001b[0m\u001b[1;33m(\u001b[0m\u001b[0mf\u001b[0m\u001b[1;33m,\u001b[0m \u001b[1;33m**\u001b[0m\u001b[0mkwargs\u001b[0m\u001b[1;33m)\u001b[0m\u001b[1;33m\u001b[0m\u001b[1;33m\u001b[0m\u001b[0m\n\u001b[0;32m    405\u001b[0m             \u001b[1;32melse\u001b[0m\u001b[1;33m:\u001b[0m\u001b[1;33m\u001b[0m\u001b[1;33m\u001b[0m\u001b[0m\n\u001b[1;32m--> 406\u001b[1;33m                 \u001b[0mapplied\u001b[0m \u001b[1;33m=\u001b[0m \u001b[0mgetattr\u001b[0m\u001b[1;33m(\u001b[0m\u001b[0mb\u001b[0m\u001b[1;33m,\u001b[0m \u001b[0mf\u001b[0m\u001b[1;33m)\u001b[0m\u001b[1;33m(\u001b[0m\u001b[1;33m**\u001b[0m\u001b[0mkwargs\u001b[0m\u001b[1;33m)\u001b[0m\u001b[1;33m\u001b[0m\u001b[1;33m\u001b[0m\u001b[0m\n\u001b[0m\u001b[0;32m    407\u001b[0m             \u001b[0mresult_blocks\u001b[0m \u001b[1;33m=\u001b[0m \u001b[0m_extend_blocks\u001b[0m\u001b[1;33m(\u001b[0m\u001b[0mapplied\u001b[0m\u001b[1;33m,\u001b[0m \u001b[0mresult_blocks\u001b[0m\u001b[1;33m)\u001b[0m\u001b[1;33m\u001b[0m\u001b[1;33m\u001b[0m\u001b[0m\n\u001b[0;32m    408\u001b[0m \u001b[1;33m\u001b[0m\u001b[0m\n",
      "\u001b[1;32m~\\anaconda3\\lib\\site-packages\\pandas\\core\\internals\\blocks.py\u001b[0m in \u001b[0;36mastype\u001b[1;34m(self, dtype, copy, errors)\u001b[0m\n\u001b[0;32m    593\u001b[0m             \u001b[0mvals1d\u001b[0m \u001b[1;33m=\u001b[0m \u001b[0mvalues\u001b[0m\u001b[1;33m.\u001b[0m\u001b[0mravel\u001b[0m\u001b[1;33m(\u001b[0m\u001b[1;33m)\u001b[0m\u001b[1;33m\u001b[0m\u001b[1;33m\u001b[0m\u001b[0m\n\u001b[0;32m    594\u001b[0m             \u001b[1;32mtry\u001b[0m\u001b[1;33m:\u001b[0m\u001b[1;33m\u001b[0m\u001b[1;33m\u001b[0m\u001b[0m\n\u001b[1;32m--> 595\u001b[1;33m                 \u001b[0mvalues\u001b[0m \u001b[1;33m=\u001b[0m \u001b[0mastype_nansafe\u001b[0m\u001b[1;33m(\u001b[0m\u001b[0mvals1d\u001b[0m\u001b[1;33m,\u001b[0m \u001b[0mdtype\u001b[0m\u001b[1;33m,\u001b[0m \u001b[0mcopy\u001b[0m\u001b[1;33m=\u001b[0m\u001b[1;32mTrue\u001b[0m\u001b[1;33m)\u001b[0m\u001b[1;33m\u001b[0m\u001b[1;33m\u001b[0m\u001b[0m\n\u001b[0m\u001b[0;32m    596\u001b[0m             \u001b[1;32mexcept\u001b[0m \u001b[1;33m(\u001b[0m\u001b[0mValueError\u001b[0m\u001b[1;33m,\u001b[0m \u001b[0mTypeError\u001b[0m\u001b[1;33m)\u001b[0m\u001b[1;33m:\u001b[0m\u001b[1;33m\u001b[0m\u001b[1;33m\u001b[0m\u001b[0m\n\u001b[0;32m    597\u001b[0m                 \u001b[1;31m# e.g. astype_nansafe can fail on object-dtype of strings\u001b[0m\u001b[1;33m\u001b[0m\u001b[1;33m\u001b[0m\u001b[1;33m\u001b[0m\u001b[0m\n",
      "\u001b[1;32m~\\anaconda3\\lib\\site-packages\\pandas\\core\\dtypes\\cast.py\u001b[0m in \u001b[0;36mastype_nansafe\u001b[1;34m(arr, dtype, copy, skipna)\u001b[0m\n\u001b[0;32m    970\u001b[0m         \u001b[1;31m# work around NumPy brokenness, #1987\u001b[0m\u001b[1;33m\u001b[0m\u001b[1;33m\u001b[0m\u001b[1;33m\u001b[0m\u001b[0m\n\u001b[0;32m    971\u001b[0m         \u001b[1;32mif\u001b[0m \u001b[0mnp\u001b[0m\u001b[1;33m.\u001b[0m\u001b[0missubdtype\u001b[0m\u001b[1;33m(\u001b[0m\u001b[0mdtype\u001b[0m\u001b[1;33m.\u001b[0m\u001b[0mtype\u001b[0m\u001b[1;33m,\u001b[0m \u001b[0mnp\u001b[0m\u001b[1;33m.\u001b[0m\u001b[0minteger\u001b[0m\u001b[1;33m)\u001b[0m\u001b[1;33m:\u001b[0m\u001b[1;33m\u001b[0m\u001b[1;33m\u001b[0m\u001b[0m\n\u001b[1;32m--> 972\u001b[1;33m             \u001b[1;32mreturn\u001b[0m \u001b[0mlib\u001b[0m\u001b[1;33m.\u001b[0m\u001b[0mastype_intsafe\u001b[0m\u001b[1;33m(\u001b[0m\u001b[0marr\u001b[0m\u001b[1;33m.\u001b[0m\u001b[0mravel\u001b[0m\u001b[1;33m(\u001b[0m\u001b[1;33m)\u001b[0m\u001b[1;33m,\u001b[0m \u001b[0mdtype\u001b[0m\u001b[1;33m)\u001b[0m\u001b[1;33m.\u001b[0m\u001b[0mreshape\u001b[0m\u001b[1;33m(\u001b[0m\u001b[0marr\u001b[0m\u001b[1;33m.\u001b[0m\u001b[0mshape\u001b[0m\u001b[1;33m)\u001b[0m\u001b[1;33m\u001b[0m\u001b[1;33m\u001b[0m\u001b[0m\n\u001b[0m\u001b[0;32m    973\u001b[0m \u001b[1;33m\u001b[0m\u001b[0m\n\u001b[0;32m    974\u001b[0m         \u001b[1;31m# if we have a datetime/timedelta array of objects\u001b[0m\u001b[1;33m\u001b[0m\u001b[1;33m\u001b[0m\u001b[1;33m\u001b[0m\u001b[0m\n",
      "\u001b[1;32mpandas\\_libs\\lib.pyx\u001b[0m in \u001b[0;36mpandas._libs.lib.astype_intsafe\u001b[1;34m()\u001b[0m\n",
      "\u001b[1;31mValueError\u001b[0m: invalid literal for int() with base 10: '4s'"
     ]
    }
   ],
   "source": [
    "netflix_series[\"duration\"]=netflix_series[\"duration\"].str.replace(' Season','')\n",
    "netflix_series[\"duration\"]=netflix_series[\"duration\"].astype(str).astype(int)"
   ]
  },
  {
   "cell_type": "code",
   "execution_count": 33,
   "metadata": {
    "scrolled": true
   },
   "outputs": [
    {
     "name": "stderr",
     "output_type": "stream",
     "text": [
      "<ipython-input-33-29196b5df6b0>:1: SettingWithCopyWarning: \n",
      "A value is trying to be set on a copy of a slice from a DataFrame.\n",
      "Try using .loc[row_indexer,col_indexer] = value instead\n",
      "\n",
      "See the caveats in the documentation: https://pandas.pydata.org/pandas-docs/stable/user_guide/indexing.html#returning-a-view-versus-a-copy\n",
      "  netflix_series[\"duration\"]=netflix_series[\"duration\"].str.replace('s','')\n",
      "<ipython-input-33-29196b5df6b0>:2: SettingWithCopyWarning: \n",
      "A value is trying to be set on a copy of a slice from a DataFrame.\n",
      "Try using .loc[row_indexer,col_indexer] = value instead\n",
      "\n",
      "See the caveats in the documentation: https://pandas.pydata.org/pandas-docs/stable/user_guide/indexing.html#returning-a-view-versus-a-copy\n",
      "  netflix_series[\"duration\"]=netflix_series[\"duration\"].astype(str).astype(int)\n"
     ]
    }
   ],
   "source": [
    "netflix_series[\"duration\"]=netflix_series[\"duration\"].str.replace('s','')\n",
    "netflix_series[\"duration\"]=netflix_series[\"duration\"].astype(str).astype(int)"
   ]
  },
  {
   "cell_type": "code",
   "execution_count": 35,
   "metadata": {
    "scrolled": false
   },
   "outputs": [
    {
     "data": {
      "text/plain": [
       "<AxesSubplot:xlabel='duration', ylabel='count'>"
      ]
     },
     "execution_count": 35,
     "metadata": {},
     "output_type": "execute_result"
    },
    {
     "data": {
      "image/png": "[encoded data removed]",
      "text/plain": [
       "<Figure size 864x720 with 1 Axes>"
      ]
     },
     "metadata": {
      "needs_background": "light"
     },
     "output_type": "display_data"
    }
   ],
   "source": [
    "plt.figure(figsize = (12,10))\n",
    "sns.countplot(x=\"duration\", data=netflix_series, palette=\"mako\", order=netflix_series[\"duration\"].value_counts().index[0:10])"
   ]
  },
  {
   "cell_type": "markdown",
   "metadata": {},
   "source": [
    "#### Fizemos esse gráfico para sabermos qual classificação de series é predominante no catalogo da netflix"
   ]
  },
  {
   "cell_type": "code",
   "execution_count": 28,
   "metadata": {
    "scrolled": true
   },
   "outputs": [
    {
     "data": {
      "text/plain": [
       "<AxesSubplot:xlabel='rating', ylabel='count'>"
      ]
     },
     "execution_count": 28,
     "metadata": {},
     "output_type": "execute_result"
    },
    {
     "data": {
      "image/png": "[encoded data removed]",
      "text/plain": [
       "<Figure size 1008x720 with 1 Axes>"
      ]
     },
     "metadata": {
      "needs_background": "light"
     },
     "output_type": "display_data"
    }
   ],
   "source": [
    "plt.figure(figsize = (14,10))\n",
    "sns.countplot(x=\"rating\", data=netflix_series, palette=\"Set2\", order=netflix_series['rating'].value_counts().index[0:10])"
   ]
  },
  {
   "cell_type": "code",
   "execution_count": null,
   "metadata": {},
   "outputs": [],
   "source": []
  }
 ],
 "metadata": {
  "kernelspec": {
   "display_name": "Python 3",
   "language": "python",
   "name": "python3"
  },
  "language_info": {
   "codemirror_mode": {
    "name": "ipython",
    "version": 3
   },
   "file_extension": ".py",
   "mimetype": "text/x-python",
   "name": "python",
   "nbconvert_exporter": "python",
   "pygments_lexer": "ipython3",
   "version": "3.8.3"
  }
 },
 "nbformat": 4,
 "nbformat_minor": 4
}
