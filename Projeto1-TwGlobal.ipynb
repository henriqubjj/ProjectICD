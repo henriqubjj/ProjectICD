{
 "cells": [
  {
   "cell_type": "code",
   "execution_count": 1,
   "metadata": {
    "scrolled": true
   },
   "outputs": [
    {
     "data": {
      "text/html": [
       "<div>\n",
       "<style scoped>\n",
       "    .dataframe tbody tr th:only-of-type {\n",
       "        vertical-align: middle;\n",
       "    }\n",
       "\n",
       "    .dataframe tbody tr th {\n",
       "        vertical-align: top;\n",
       "    }\n",
       "\n",
       "    .dataframe thead th {\n",
       "        text-align: right;\n",
       "    }\n",
       "</style>\n",
       "<table border=\"1\" class=\"dataframe\">\n",
       "  <thead>\n",
       "    <tr style=\"text-align: right;\">\n",
       "      <th></th>\n",
       "      <th>year</th>\n",
       "      <th>Month</th>\n",
       "      <th>Hours_watched</th>\n",
       "      <th>Avg_viewers</th>\n",
       "      <th>Peak_viewers</th>\n",
       "      <th>Streams</th>\n",
       "      <th>Avg_channels</th>\n",
       "      <th>Games_streamed</th>\n",
       "    </tr>\n",
       "  </thead>\n",
       "  <tbody>\n",
       "    <tr>\n",
       "      <th>0</th>\n",
       "      <td>2016</td>\n",
       "      <td>1</td>\n",
       "      <td>480241904</td>\n",
       "      <td>646355</td>\n",
       "      <td>1275257</td>\n",
       "      <td>7701675</td>\n",
       "      <td>20076</td>\n",
       "      <td>12149</td>\n",
       "    </tr>\n",
       "    <tr>\n",
       "      <th>1</th>\n",
       "      <td>2016</td>\n",
       "      <td>2</td>\n",
       "      <td>441859897</td>\n",
       "      <td>635769</td>\n",
       "      <td>1308032</td>\n",
       "      <td>7038520</td>\n",
       "      <td>20427</td>\n",
       "      <td>12134</td>\n",
       "    </tr>\n",
       "    <tr>\n",
       "      <th>2</th>\n",
       "      <td>2016</td>\n",
       "      <td>3</td>\n",
       "      <td>490669308</td>\n",
       "      <td>660389</td>\n",
       "      <td>1591551</td>\n",
       "      <td>7390957</td>\n",
       "      <td>20271</td>\n",
       "      <td>12234</td>\n",
       "    </tr>\n",
       "    <tr>\n",
       "      <th>3</th>\n",
       "      <td>2016</td>\n",
       "      <td>4</td>\n",
       "      <td>377975447</td>\n",
       "      <td>525696</td>\n",
       "      <td>1775120</td>\n",
       "      <td>6869719</td>\n",
       "      <td>16791</td>\n",
       "      <td>12282</td>\n",
       "    </tr>\n",
       "    <tr>\n",
       "      <th>4</th>\n",
       "      <td>2016</td>\n",
       "      <td>5</td>\n",
       "      <td>449836631</td>\n",
       "      <td>605432</td>\n",
       "      <td>1438962</td>\n",
       "      <td>7535519</td>\n",
       "      <td>19394</td>\n",
       "      <td>12424</td>\n",
       "    </tr>\n",
       "    <tr>\n",
       "      <th>...</th>\n",
       "      <td>...</td>\n",
       "      <td>...</td>\n",
       "      <td>...</td>\n",
       "      <td>...</td>\n",
       "      <td>...</td>\n",
       "      <td>...</td>\n",
       "      <td>...</td>\n",
       "      <td>...</td>\n",
       "    </tr>\n",
       "    <tr>\n",
       "      <th>59</th>\n",
       "      <td>2020</td>\n",
       "      <td>12</td>\n",
       "      <td>1877319317</td>\n",
       "      <td>2526674</td>\n",
       "      <td>4860624</td>\n",
       "      <td>22089295</td>\n",
       "      <td>107006</td>\n",
       "      <td>32840</td>\n",
       "    </tr>\n",
       "    <tr>\n",
       "      <th>60</th>\n",
       "      <td>2021</td>\n",
       "      <td>1</td>\n",
       "      <td>2173794168</td>\n",
       "      <td>2925698</td>\n",
       "      <td>6516666</td>\n",
       "      <td>25614207</td>\n",
       "      <td>119448</td>\n",
       "      <td>34551</td>\n",
       "    </tr>\n",
       "    <tr>\n",
       "      <th>61</th>\n",
       "      <td>2021</td>\n",
       "      <td>2</td>\n",
       "      <td>1979581961</td>\n",
       "      <td>2950196</td>\n",
       "      <td>5274617</td>\n",
       "      <td>24319608</td>\n",
       "      <td>122763</td>\n",
       "      <td>34594</td>\n",
       "    </tr>\n",
       "    <tr>\n",
       "      <th>62</th>\n",
       "      <td>2021</td>\n",
       "      <td>3</td>\n",
       "      <td>2173794168</td>\n",
       "      <td>2925698</td>\n",
       "      <td>6516666</td>\n",
       "      <td>25614207</td>\n",
       "      <td>119448</td>\n",
       "      <td>34551</td>\n",
       "    </tr>\n",
       "    <tr>\n",
       "      <th>63</th>\n",
       "      <td>2021</td>\n",
       "      <td>4</td>\n",
       "      <td>2173794168</td>\n",
       "      <td>2925698</td>\n",
       "      <td>6516666</td>\n",
       "      <td>25614207</td>\n",
       "      <td>119448</td>\n",
       "      <td>34551</td>\n",
       "    </tr>\n",
       "  </tbody>\n",
       "</table>\n",
       "<p>64 rows × 8 columns</p>\n",
       "</div>"
      ],
      "text/plain": [
       "    year  Month  Hours_watched  Avg_viewers  Peak_viewers   Streams  \\\n",
       "0   2016      1      480241904       646355       1275257   7701675   \n",
       "1   2016      2      441859897       635769       1308032   7038520   \n",
       "2   2016      3      490669308       660389       1591551   7390957   \n",
       "3   2016      4      377975447       525696       1775120   6869719   \n",
       "4   2016      5      449836631       605432       1438962   7535519   \n",
       "..   ...    ...            ...          ...           ...       ...   \n",
       "59  2020     12     1877319317      2526674       4860624  22089295   \n",
       "60  2021      1     2173794168      2925698       6516666  25614207   \n",
       "61  2021      2     1979581961      2950196       5274617  24319608   \n",
       "62  2021      3     2173794168      2925698       6516666  25614207   \n",
       "63  2021      4     2173794168      2925698       6516666  25614207   \n",
       "\n",
       "    Avg_channels  Games_streamed  \n",
       "0          20076           12149  \n",
       "1          20427           12134  \n",
       "2          20271           12234  \n",
       "3          16791           12282  \n",
       "4          19394           12424  \n",
       "..           ...             ...  \n",
       "59        107006           32840  \n",
       "60        119448           34551  \n",
       "61        122763           34594  \n",
       "62        119448           34551  \n",
       "63        119448           34551  \n",
       "\n",
       "[64 rows x 8 columns]"
      ]
     },
     "execution_count": 1,
     "metadata": {},
     "output_type": "execute_result"
    }
   ],
   "source": [
    "import pandas as pd\n",
    "import numpy as np\n",
    "import math as mt\n",
    "import scipy as sp\n",
    "import matplotlib.pyplot as plt\n",
    "TwGlobal = pd.read_csv('Twitch_global_data.csv')\n",
    "TwGlobal"
   ]
  },
  {
   "cell_type": "markdown",
   "metadata": {},
   "source": [
    "### Média"
   ]
  },
  {
   "cell_type": "code",
   "execution_count": 105,
   "metadata": {},
   "outputs": [
    {
     "name": "stdout",
     "output_type": "stream",
     "text": [
      "Média Hours_watched: 926290012.796875\n",
      "Média Avg_viewers: 1269922.6875\n",
      "Média Peak_viewers: 2701095.984375\n",
      "Média Streams: 13220715.53125\n",
      "Média Avg_channels: 49148.546875\n",
      "Média: Games_streamed: 19805.734375\n"
     ]
    }
   ],
   "source": [
    "#Média\n",
    "print('Média Hours_watched:',np.mean(TwGlobal['Hours_watched']))\n",
    "print('Média Avg_viewers:',np.mean(TwGlobal['Avg_viewers']))\n",
    "print('Média Peak_viewers:',np.mean(TwGlobal['Peak_viewers']))\n",
    "print('Média Streams:',np.mean(TwGlobal['Streams']))\n",
    "print('Média Avg_channels:',np.mean(TwGlobal['Avg_channels']))\n",
    "print('Média: Games_streamed:',np.mean(TwGlobal['Games_streamed']))"
   ]
  },
  {
   "cell_type": "markdown",
   "metadata": {},
   "source": [
    "### Mediana"
   ]
  },
  {
   "cell_type": "code",
   "execution_count": 106,
   "metadata": {
    "scrolled": false
   },
   "outputs": [
    {
     "name": "stdout",
     "output_type": "stream",
     "text": [
      "Mediana Hours_watched: 830515437.5\n",
      "Mediana Avg_viewers: 1136094.5\n",
      "Mediana Peak_viewers: 2342162.0\n",
      "Mediana Streams: 13638538.0\n",
      "Mediana Avg_channels: 43902.0\n",
      "Mediana: Games_streamed: 19144.0\n"
     ]
    }
   ],
   "source": [
    "#Mediana\n",
    "print('Mediana Hours_watched:',np.median(TwGlobal['Hours_watched']))\n",
    "print('Mediana Avg_viewers:',np.median(TwGlobal['Avg_viewers']))\n",
    "print('Mediana Peak_viewers:',np.median(TwGlobal['Peak_viewers']))\n",
    "print('Mediana Streams:',np.median(TwGlobal['Streams']))\n",
    "print('Mediana Avg_channels:',np.median(TwGlobal['Avg_channels']))\n",
    "print('Mediana: Games_streamed:',np.median(TwGlobal['Games_streamed']))"
   ]
  },
  {
   "cell_type": "markdown",
   "metadata": {},
   "source": [
    "### Moda"
   ]
  },
  {
   "cell_type": "code",
   "execution_count": 39,
   "metadata": {},
   "outputs": [],
   "source": [
    "#Moda"
   ]
  },
  {
   "cell_type": "markdown",
   "metadata": {},
   "source": [
    "### Desvio Padrão"
   ]
  },
  {
   "cell_type": "code",
   "execution_count": 109,
   "metadata": {
    "scrolled": true
   },
   "outputs": [
    {
     "name": "stdout",
     "output_type": "stream",
     "text": [
      "DesvioPadrão Hours_watched: 507285228.5580563\n",
      "DesvioPadrão Avg_viewers: 695223.0774868658\n",
      "DesvioPadrão Peak_viewers: 1382357.891967612\n",
      "DesvioPadrão Streams: 5392710.040218815\n",
      "DesvioPadrão Avg_channels: 30921.058025301347\n",
      "DesvioPadrão Games_streamed: 6118.667643067268\n"
     ]
    }
   ],
   "source": [
    "#Desvio Padrão\n",
    "print('DesvioPadrão Hours_watched:',mt.sqrt(np.var(TwGlobal['Hours_watched'])))\n",
    "print('DesvioPadrão Avg_viewers:',mt.sqrt(np.var(TwGlobal['Avg_viewers'])))\n",
    "print('DesvioPadrão Peak_viewers:',mt.sqrt(np.var(TwGlobal['Peak_viewers'])))\n",
    "print('DesvioPadrão Streams:',mt.sqrt(np.var(TwGlobal['Streams'])))\n",
    "print('DesvioPadrão Avg_channels:',mt.sqrt(np.var(TwGlobal['Avg_channels'])))\n",
    "print('DesvioPadrão Games_streamed:',mt.sqrt(np.var(TwGlobal['Games_streamed'])))"
   ]
  },
  {
   "cell_type": "markdown",
   "metadata": {},
   "source": [
    "### Boxplot geral"
   ]
  },
  {
   "cell_type": "code",
   "execution_count": 8,
   "metadata": {},
   "outputs": [
    {
     "name": "stdout",
     "output_type": "stream",
     "text": [
      "Hours_watched: AxesSubplot(0.125,0.125;0.775x0.755)\n",
      "Avg_viewers: AxesSubplot(0.125,0.125;0.775x0.755)\n",
      "Peak_viewers: AxesSubplot(0.125,0.125;0.775x0.755)\n",
      "Streams: AxesSubplot(0.125,0.125;0.775x0.755)\n",
      "Avg_channels: AxesSubplot(0.125,0.125;0.775x0.755)\n",
      "Games_streamed: AxesSubplot(0.125,0.125;0.775x0.755)\n"
     ]
    },
    {
     "data": {
      "image/png": "[encoded data removed]",
      "text/plain": [
       "<Figure size 576x432 with 1 Axes>"
      ]
     },
     "metadata": {
      "needs_background": "light"
     },
     "output_type": "display_data"
    }
   ],
   "source": [
    "#Boxplot Geral\n",
    "plt.figure(figsize = (8,6))\n",
    "print('Hours_watched:',TwGlobal.boxplot(column=\"Hours_watched\"))\n",
    "print(\"Avg_viewers:\",TwGlobal.boxplot(column=\"Avg_viewers\"))\n",
    "print('Peak_viewers:',TwGlobal.boxplot(column=\"Peak_viewers\"))\n",
    "print('Streams:',TwGlobal.boxplot(column=\"Streams\"))\n",
    "print('Avg_channels:',TwGlobal.boxplot(column=\"Avg_channels\"))\n",
    "print('Games_streamed:',TwGlobal.boxplot(column=\"Games_streamed\"))"
   ]
  },
  {
   "cell_type": "markdown",
   "metadata": {},
   "source": [
    "### Boxplot"
   ]
  },
  {
   "cell_type": "code",
   "execution_count": 6,
   "metadata": {},
   "outputs": [
    {
     "name": "stdout",
     "output_type": "stream",
     "text": [
      "Hours_watched: AxesSubplot(0.125,0.125;0.775x0.755)\n"
     ]
    },
    {
     "data": {
      "image/png": "[encoded data removed]",
      "text/plain": [
       "<Figure size 576x432 with 1 Axes>"
      ]
     },
     "metadata": {
      "needs_background": "light"
     },
     "output_type": "display_data"
    }
   ],
   "source": [
    "plt.figure(figsize = (8,6))\n",
    "print('Hours_watched:',TwGlobal.boxplot(column=\"Hours_watched\"))"
   ]
  },
  {
   "cell_type": "code",
   "execution_count": 7,
   "metadata": {},
   "outputs": [
    {
     "name": "stdout",
     "output_type": "stream",
     "text": [
      "Avg_viewers: AxesSubplot(0.125,0.125;0.775x0.755)\n"
     ]
    },
    {
     "data": {
      "image/png": "[encoded data removed]",
      "text/plain": [
       "<Figure size 576x432 with 1 Axes>"
      ]
     },
     "metadata": {
      "needs_background": "light"
     },
     "output_type": "display_data"
    }
   ],
   "source": [
    "plt.figure(figsize = (8,6))\n",
    "print(\"Avg_viewers:\",TwGlobal.boxplot(column=\"Avg_viewers\"))"
   ]
  },
  {
   "cell_type": "code",
   "execution_count": 5,
   "metadata": {},
   "outputs": [
    {
     "name": "stdout",
     "output_type": "stream",
     "text": [
      "Peak_viewers: AxesSubplot(0.125,0.125;0.775x0.755)\n"
     ]
    },
    {
     "data": {
      "image/png": "[encoded data removed]",
      "text/plain": [
       "<Figure size 576x432 with 1 Axes>"
      ]
     },
     "metadata": {
      "needs_background": "light"
     },
     "output_type": "display_data"
    }
   ],
   "source": [
    "plt.figure(figsize = (8,6))\n",
    "print('Peak_viewers:',TwGlobal.boxplot(column=\"Peak_viewers\"))"
   ]
  },
  {
   "cell_type": "code",
   "execution_count": 4,
   "metadata": {},
   "outputs": [
    {
     "name": "stdout",
     "output_type": "stream",
     "text": [
      "Streams: AxesSubplot(0.125,0.125;0.775x0.755)\n"
     ]
    },
    {
     "data": {
      "image/png": "[encoded data removed]",
      "text/plain": [
       "<Figure size 576x432 with 1 Axes>"
      ]
     },
     "metadata": {
      "needs_background": "light"
     },
     "output_type": "display_data"
    }
   ],
   "source": [
    "plt.figure(figsize = (8,6))\n",
    "print('Streams:',TwGlobal.boxplot(column=\"Streams\"))"
   ]
  },
  {
   "cell_type": "code",
   "execution_count": 3,
   "metadata": {},
   "outputs": [
    {
     "name": "stdout",
     "output_type": "stream",
     "text": [
      "Avg_channels: AxesSubplot(0.125,0.125;0.775x0.755)\n"
     ]
    },
    {
     "data": {
      "image/png": "[encoded data removed]",
      "text/plain": [
       "<Figure size 576x432 with 1 Axes>"
      ]
     },
     "metadata": {
      "needs_background": "light"
     },
     "output_type": "display_data"
    }
   ],
   "source": [
    "plt.figure(figsize = (8,6))\n",
    "print('Avg_channels:',TwGlobal.boxplot(column=\"Avg_channels\"))"
   ]
  },
  {
   "cell_type": "code",
   "execution_count": 2,
   "metadata": {},
   "outputs": [
    {
     "name": "stdout",
     "output_type": "stream",
     "text": [
      "Games_streamed: AxesSubplot(0.125,0.125;0.775x0.755)\n"
     ]
    },
    {
     "data": {
      "image/png": "[encoded data removed]",
      "text/plain": [
       "<Figure size 576x432 with 1 Axes>"
      ]
     },
     "metadata": {
      "needs_background": "light"
     },
     "output_type": "display_data"
    }
   ],
   "source": [
    "plt.figure(figsize = (8,6))\n",
    "print('Games_streamed:',TwGlobal.boxplot(column=\"Games_streamed\"))"
   ]
  }
 ],
 "metadata": {
  "kernelspec": {
   "display_name": "Python 3",
   "language": "python",
   "name": "python3"
  },
  "language_info": {
   "codemirror_mode": {
    "name": "ipython",
    "version": 3
   },
   "file_extension": ".py",
   "mimetype": "text/x-python",
   "name": "python",
   "nbconvert_exporter": "python",
   "pygments_lexer": "ipython3",
   "version": "3.8.3"
  }
 },
 "nbformat": 4,
 "nbformat_minor": 4
}
